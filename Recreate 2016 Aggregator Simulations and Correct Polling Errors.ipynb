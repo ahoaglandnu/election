{
 "cells": [
  {
   "cell_type": "code",
   "execution_count": 1,
   "metadata": {},
   "outputs": [],
   "source": [
    "import numpy as np\n",
    "import pandas as pd\n",
    "import random"
   ]
  },
  {
   "cell_type": "code",
   "execution_count": 2,
   "metadata": {},
   "outputs": [],
   "source": [
    "df = pd.read_csv('aggpreds2016.csv')\n",
    "df2 = pd.read_csv('backtest2016.csv')"
   ]
  },
  {
   "cell_type": "code",
   "execution_count": 3,
   "metadata": {},
   "outputs": [],
   "source": [
    "df = df.rename(columns={\"State\": \"state\", \"E.V.\": \"ec\"})"
   ]
  },
  {
   "cell_type": "code",
   "execution_count": 4,
   "metadata": {},
   "outputs": [],
   "source": [
    "df2['actual_win'] = np.where( df2['trump_actual'] > df2['clinton_actual'], 'trump','clinton' )\n",
    "df2['rcp_win'] = np.where( df2['clinton_rcp'] > df2['trump_rcp'], 'clinton','trump')\n",
    "df2['polling_error'] = np.where( df2['rcp_win'] != df2['actual_win'], 1,0 ) "
   ]
  },
  {
   "cell_type": "code",
   "execution_count": 5,
   "metadata": {},
   "outputs": [],
   "source": [
    "def bias_margin_of_error(x, y, n):\n",
    "    prob_error = 100 - x - y\n",
    "    b = n + prob_error\n",
    "    moex = random.choice(range((n*-1),(b+1),1))\n",
    "    moey = random.choice(range((n*-1),(n+1),1))\n",
    "    x += moex\n",
    "    y += moey\n",
    "    return (x, y)\n",
    "\n",
    "def election_bias_sim(x, y, moe, number_of_elections=20000):\n",
    "    x = int(x)\n",
    "    y = int(y)\n",
    "    moe = int(moe)\n",
    "    no_wins = 0 # number of wins x over y\n",
    "    for i in range(number_of_elections):\n",
    "        x1, y1 = bias_margin_of_error(x, y, moe)\n",
    "        victory = x1 - y1\n",
    "        if victory >= 1:\n",
    "            no_wins += 1\n",
    "    no_wins_percentage = float(no_wins) / number_of_elections\n",
    "    return no_wins_percentage \n",
    "\n",
    "def moe(x, y, n):\n",
    "    moex = random.choice(range((n*-1),(n+1),1))\n",
    "    moey = random.choice(range((n*-1),(n+1),1))\n",
    "    x += moex\n",
    "    y += moey\n",
    "    return x, y\n",
    "\n",
    "def sim(x, y, e, number_of_elections=20000):\n",
    "    x = int(x)\n",
    "    y = int(y)\n",
    "    e = int(e)\n",
    "    no_wins = 0 # number of wins x over y\n",
    "    for i in range(number_of_elections):\n",
    "        x1, y1 = moe(x, y, e)\n",
    "        victory = x1 - y1\n",
    "        if victory >= 1:\n",
    "            no_wins += 1\n",
    "    no_wins_percentage = float(no_wins) / number_of_elections\n",
    "    return no_wins_percentage"
   ]
  },
  {
   "cell_type": "code",
   "execution_count": 6,
   "metadata": {},
   "outputs": [],
   "source": [
    "trump_x = df2['trump_rcp'].values\n",
    "clinton_y = df2['clinton_rcp'].values\n",
    "\n",
    "clinton_x = df2['clinton_rcp'].values\n",
    "trump_y = df2['trump_rcp'].values"
   ]
  },
  {
   "cell_type": "code",
   "execution_count": 7,
   "metadata": {},
   "outputs": [],
   "source": [
    "trump_rcp_prob = []\n",
    "for x, y in zip(trump_x, clinton_y):\n",
    "    nwp = sim(x,y,4)\n",
    "    trump_rcp_prob.append(100*nwp)\n",
    "\n",
    "clinton_rcp_prob = []\n",
    "for x, y in zip(clinton_x, trump_y):\n",
    "    nwp = sim(x,y,4)\n",
    "    clinton_rcp_prob.append(100*nwp)\n",
    "    \n",
    "df2['trump_rcp_prob'] = trump_rcp_prob\n",
    "df2['clinton_rcp_prob'] = clinton_rcp_prob"
   ]
  },
  {
   "cell_type": "code",
   "execution_count": 8,
   "metadata": {},
   "outputs": [],
   "source": [
    "def electoral_college(ec, cand_1, state, sims=10, thumb_on_scale=1):\n",
    "    cand_1_wins = 0\n",
    "    cand_2_wins = 0\n",
    "    cand_1_ec_total = []\n",
    "    cand_1_states = []\n",
    "    cand_2_ec_total = []\n",
    "    cand_2_states = []\n",
    "    for i in range(sims):\n",
    "        cand_1_ec = 0\n",
    "        cand_1_state = []\n",
    "        cand_2_ec = 0\n",
    "        cand_2_state = []\n",
    "        for x, y, z in zip(cand_1, state, ec):\n",
    "            x = x + (random.choice(range((thumb_on_scale*-1),(1),1))) # weigh down the probabilities\n",
    "            sim_election = np.random.uniform()*100\n",
    "            if x > sim_election:\n",
    "                cand_1_ec += z\n",
    "                cand_1_state.append(y)\n",
    "            else: \n",
    "                cand_2_ec += z\n",
    "                cand_2_state.append(y)\n",
    "        cand_1_ec_total.append(cand_1_ec)\n",
    "        cand_1_states.append(cand_1_state)\n",
    "        cand_2_ec_total.append(cand_2_ec)\n",
    "        cand_2_states.append(cand_2_state)\n",
    "        if cand_1_ec > cand_2_ec:\n",
    "            cand_1_wins += 1\n",
    "        else:\n",
    "            cand_2_wins += 1\n",
    "    return cand_1_wins, cand_2_wins, cand_1_ec_total, cand_2_ec_total, cand_1_states, cand_2_states "
   ]
  },
  {
   "cell_type": "code",
   "execution_count": 9,
   "metadata": {},
   "outputs": [
    {
     "name": "stdout",
     "output_type": "stream",
     "text": [
      "Recreate RealClearPolitics Probabilities and Electoral College Results\n",
      "\n",
      "Trump Wins: 6652\n",
      "Trump Average EC: 258.1842\n",
      "Trump Most Likely EC: 266\n",
      "Trump Win Prob: 33.26\n",
      "\n",
      "Clinton Wins: 13348\n",
      "Clinton Average EC: 279.8158\n",
      "Clinton Most Likely EC: 272\n",
      "Clinton Win Prob: 66.74\n"
     ]
    }
   ],
   "source": [
    "print(\"Recreate RealClearPolitics Probabilities and Electoral College Results\")\n",
    "print()\n",
    "ec = list(df2.ec.values)\n",
    "state = list(df2.state.values)\n",
    "cand_1 = list(df2.clinton_rcp_prob.values)\n",
    "cand_1_wins, cand_2_wins, cand_1_ec_avg,\\\n",
    "cand_2_ec_avg, cand_1_states, cand_2_states = electoral_college(ec, cand_1, state, sims=20000, thumb_on_scale=2)\n",
    "print('Trump Wins:', cand_2_wins)\n",
    "print('Trump Average EC:', np.average(cand_2_ec_avg))\n",
    "print('Trump Most Likely EC:', np.sum(df2['ec'][df2['clinton_rcp_prob'] <= 50]))\n",
    "print('Trump Win Prob:', (cand_2_wins/20000)*100)\n",
    "print()\n",
    "print('Clinton Wins:', cand_1_wins)\n",
    "print('Clinton Average EC:', np.average(cand_1_ec_avg))\n",
    "print('Clinton Most Likely EC:', np.sum(df2['ec'][df2['clinton_rcp_prob'] >= 50]))\n",
    "print('Clinton Win Prob:', (cand_1_wins/20000)*100)"
   ]
  },
  {
   "cell_type": "code",
   "execution_count": 10,
   "metadata": {},
   "outputs": [
    {
     "name": "stdout",
     "output_type": "stream",
     "text": [
      "Recreate NY Times Probabilities and Electoral College Results\n",
      "\n",
      "Trump Wins: 934\n",
      "Trump Average EC: 225.756\n",
      "Trump Most Likely EC: 216\n",
      "Trump Win Prob: 4.67\n",
      "\n",
      "Clinton Wins: 19066\n",
      "Clinton Average EC: 312.244\n",
      "Clinton Most Likely EC: 322\n",
      "Clinton Win Prob: 95.33\n"
     ]
    }
   ],
   "source": [
    "print(\"Recreate NY Times Probabilities and Electoral College Results\")\n",
    "print()\n",
    "ec = list(df.ec.values)\n",
    "state = list(df.state.values)\n",
    "cand_1 = list(df.NYT.values)\n",
    "cand_1_wins, cand_2_wins, cand_1_ec_avg,\\\n",
    "cand_2_ec_avg, cand_1_states, cand_2_states = electoral_college(ec, cand_1, state, sims=20000, thumb_on_scale=3)\n",
    "print('Trump Wins:', cand_2_wins)\n",
    "print('Trump Average EC:', np.average(cand_2_ec_avg))\n",
    "print('Trump Most Likely EC:', np.sum(df['ec'][df['NYT'] <= 50]))\n",
    "print('Trump Win Prob:', (cand_2_wins/20000)*100)\n",
    "print()\n",
    "print('Clinton Wins:', cand_1_wins)\n",
    "print('Clinton Average EC:', np.average(cand_1_ec_avg))\n",
    "print('Clinton Most Likely EC:', np.sum(df['ec'][df['NYT'] >= 50]))\n",
    "print('Clinton Win Prob:', (cand_1_wins/20000)*100)"
   ]
  },
  {
   "cell_type": "code",
   "execution_count": 11,
   "metadata": {},
   "outputs": [
    {
     "name": "stdout",
     "output_type": "stream",
     "text": [
      "Recreate 538 Probabilities and Electoral College Results\n",
      "\n",
      "Trump Wins: 4816\n",
      "Trump Average EC: 248.9347\n",
      "Trump Most Likely EC: 215\n",
      "Trump Win Prob: 24.08\n",
      "\n",
      "Clinton Wins: 15184\n",
      "Clinton Average EC: 289.0653\n",
      "Clinton Most Likely EC: 323\n",
      "Clinton Win Prob: 75.92\n"
     ]
    }
   ],
   "source": [
    "print(\"Recreate 538 Probabilities and Electoral College Results\")\n",
    "print()\n",
    "ec = list(df.ec.values)\n",
    "state = list(df.state.values)\n",
    "cand_1 = list(df['538'].values)\n",
    "cand_1_wins, cand_2_wins, cand_1_ec_avg,\\\n",
    "cand_2_ec_avg, cand_1_states, cand_2_states = electoral_college(ec, cand_1, state, sims=20000, thumb_on_scale=6)\n",
    "print('Trump Wins:', cand_2_wins)\n",
    "print('Trump Average EC:', np.average(cand_2_ec_avg))\n",
    "print('Trump Most Likely EC:', np.sum(df['ec'][df['538'] <= 50]))\n",
    "print('Trump Win Prob:', (cand_2_wins/20000)*100)\n",
    "print()\n",
    "print('Clinton Wins:', cand_1_wins)\n",
    "print('Clinton Average EC:', np.average(cand_1_ec_avg))\n",
    "print('Clinton Most Likely EC:', np.sum(df['ec'][df['538'] >= 50]))\n",
    "print('Clinton Win Prob:', (cand_1_wins/20000)*100)"
   ]
  },
  {
   "cell_type": "code",
   "execution_count": 12,
   "metadata": {},
   "outputs": [
    {
     "name": "stdout",
     "output_type": "stream",
     "text": [
      "Recreate HuffPost Probabilities and Electoral College Results\n",
      "\n",
      "Trump Wins: 108\n",
      "Trump Average EC: 216.5722\n",
      "Trump Most Likely EC: 216\n",
      "Trump Win Prob: 0.54\n",
      "\n",
      "Clinton Wins: 19892\n",
      "Clinton Average EC: 321.4278\n",
      "Clinton Most Likely EC: 324\n",
      "Clinton Win Prob: 99.46000000000001\n"
     ]
    }
   ],
   "source": [
    "print(\"Recreate HuffPost Probabilities and Electoral College Results\")\n",
    "print()\n",
    "ec = list(df.ec.values)\n",
    "state = list(df.state.values)\n",
    "cand_1 = list(df.HuffPost.values)\n",
    "cand_1_wins, cand_2_wins, cand_1_ec_avg,\\\n",
    "cand_2_ec_avg, cand_1_states, cand_2_states = electoral_college(ec, cand_1, state, sims=20000)\n",
    "print('Trump Wins:', cand_2_wins)\n",
    "print('Trump Average EC:', np.average(cand_2_ec_avg))\n",
    "print('Trump Most Likely EC:', np.sum(df['ec'][df['HuffPost'] <= 50]))\n",
    "print('Trump Win Prob:', (cand_2_wins/20000)*100)\n",
    "print()\n",
    "print('Clinton Wins:', cand_1_wins)\n",
    "print('Clinton Average EC:', np.average(cand_1_ec_avg))\n",
    "print('Clinton Most Likely EC:', np.sum(df['ec'][df['HuffPost'] >= 50]))\n",
    "print('Clinton Win Prob:', (cand_1_wins/20000)*100)"
   ]
  },
  {
   "cell_type": "code",
   "execution_count": 13,
   "metadata": {},
   "outputs": [
    {
     "name": "stdout",
     "output_type": "stream",
     "text": [
      "Recreate PEC Probabilities and Electoral College Results\n",
      "\n",
      "Trump Wins: 1155\n",
      "Trump Average EC: 231.27395\n",
      "Trump Most Likely EC: 215\n",
      "Trump Win Prob: 5.775\n",
      "\n",
      "Clinton Wins: 18845\n",
      "Clinton Average EC: 306.72605\n",
      "Clinton Most Likely EC: 323\n",
      "Clinton Win Prob: 94.22500000000001\n"
     ]
    }
   ],
   "source": [
    "print(\"Recreate PEC Probabilities and Electoral College Results\")\n",
    "print()\n",
    "ec = list(df.ec.values)\n",
    "state = list(df.state.values)\n",
    "cand_1 = list(df.PEC.values)\n",
    "cand_1_wins, cand_2_wins, cand_1_ec_avg,\\\n",
    "cand_2_ec_avg, cand_1_states, cand_2_states = electoral_college(ec, cand_1, state, sims=20000)\n",
    "print('Trump Wins:', cand_2_wins)\n",
    "print('Trump Average EC:', np.average(cand_2_ec_avg))\n",
    "print('Trump Most Likely EC:', np.sum(df['ec'][df['PEC'] <= 50]))\n",
    "print('Trump Win Prob:', (cand_2_wins/20000)*100)\n",
    "print()\n",
    "print('Clinton Wins:', cand_1_wins)\n",
    "print('Clinton Average EC:', np.average(cand_1_ec_avg))\n",
    "print('Clinton Most Likely EC:', np.sum(df['ec'][df['PEC'] >= 50]))\n",
    "print('Clinton Win Prob:', (cand_1_wins/20000)*100)"
   ]
  },
  {
   "cell_type": "markdown",
   "metadata": {},
   "source": [
    "### Correct for the known polling errors"
   ]
  },
  {
   "cell_type": "code",
   "execution_count": 14,
   "metadata": {},
   "outputs": [
    {
     "data": {
      "text/html": [
       "<div>\n",
       "<style scoped>\n",
       "    .dataframe tbody tr th:only-of-type {\n",
       "        vertical-align: middle;\n",
       "    }\n",
       "\n",
       "    .dataframe tbody tr th {\n",
       "        vertical-align: top;\n",
       "    }\n",
       "\n",
       "    .dataframe thead th {\n",
       "        text-align: right;\n",
       "    }\n",
       "</style>\n",
       "<table border=\"1\" class=\"dataframe\">\n",
       "  <thead>\n",
       "    <tr style=\"text-align: right;\">\n",
       "      <th></th>\n",
       "      <th>state</th>\n",
       "      <th>actual_win</th>\n",
       "    </tr>\n",
       "  </thead>\n",
       "  <tbody>\n",
       "    <tr>\n",
       "      <th>2</th>\n",
       "      <td>Michigan</td>\n",
       "      <td>trump</td>\n",
       "    </tr>\n",
       "    <tr>\n",
       "      <th>3</th>\n",
       "      <td>Pennsylvania</td>\n",
       "      <td>trump</td>\n",
       "    </tr>\n",
       "    <tr>\n",
       "      <th>11</th>\n",
       "      <td>Nevada</td>\n",
       "      <td>clinton</td>\n",
       "    </tr>\n",
       "    <tr>\n",
       "      <th>15</th>\n",
       "      <td>Wisconsin</td>\n",
       "      <td>trump</td>\n",
       "    </tr>\n",
       "  </tbody>\n",
       "</table>\n",
       "</div>"
      ],
      "text/plain": [
       "           state actual_win\n",
       "2       Michigan      trump\n",
       "3   Pennsylvania      trump\n",
       "11        Nevada    clinton\n",
       "15     Wisconsin      trump"
      ]
     },
     "execution_count": 14,
     "metadata": {},
     "output_type": "execute_result"
    }
   ],
   "source": [
    "df2[['state','actual_win']][df2['polling_error'] == 1]"
   ]
  },
  {
   "cell_type": "code",
   "execution_count": 15,
   "metadata": {},
   "outputs": [],
   "source": [
    "trump_bias = []\n",
    "for x, y in zip(trump_x, clinton_y):\n",
    "    nwp = election_bias_sim(x,y,4)\n",
    "    trump_bias.append(100*nwp)\n",
    "    \n",
    "clinton_bias = []\n",
    "for x, y in zip(clinton_x, trump_y):\n",
    "    nwp = election_bias_sim(x,y,4)\n",
    "    clinton_bias.append(100*nwp)\n",
    "    \n",
    "df2['trump_bias'] = trump_bias\n",
    "df2['clinton_bias'] = clinton_bias"
   ]
  },
  {
   "cell_type": "code",
   "execution_count": 16,
   "metadata": {},
   "outputs": [],
   "source": [
    "adj_clinton_prob = []\n",
    "for i in range(len(df2)):\n",
    "    if df2['polling_error'][i] == 1:\n",
    "        if df2['actual_win'][i] == 'clinton':\n",
    "            prob = df2['clinton_bias'][i]\n",
    "            adj_clinton_prob.append(prob)\n",
    "        else:\n",
    "            prob = 100 - df2['trump_bias'][i]\n",
    "            adj_clinton_prob.append(prob)\n",
    "    else:\n",
    "        prob = df2['clinton_rcp_prob'][i] \n",
    "        adj_clinton_prob.append(prob)\n",
    "        \n",
    "df2['adj_clinton_prob'] = adj_clinton_prob"
   ]
  },
  {
   "cell_type": "code",
   "execution_count": 17,
   "metadata": {},
   "outputs": [
    {
     "name": "stdout",
     "output_type": "stream",
     "text": [
      "True 2016 Probabilities and Electoral College Results\n",
      "\n",
      "Trump Wins: 10854\n",
      "Trump Average EC: 270.85765\n",
      "Trump Most Likely EC: 306\n",
      "Trump Win Prob: 54.269999999999996\n",
      "\n",
      "Clinton Wins: 9146\n",
      "Clinton Average EC: 267.14235\n",
      "Clinton Most Likely EC: 232\n",
      "Clinton Win Prob: 45.73\n"
     ]
    }
   ],
   "source": [
    "print(\"True 2016 Probabilities and Electoral College Results\")\n",
    "print()\n",
    "ec = list(df2.ec.values)\n",
    "state = list(df2.state.values)\n",
    "cand_1 = list(df2.adj_clinton_prob.values)\n",
    "cand_1_wins, cand_2_wins, cand_1_ec_avg,\\\n",
    "cand_2_ec_avg, cand_1_states, cand_2_states = electoral_college(ec, cand_1, state, sims=20000)\n",
    "print('Trump Wins:', cand_2_wins)\n",
    "print('Trump Average EC:', np.average(cand_2_ec_avg))\n",
    "print('Trump Most Likely EC:', np.sum(df2['ec'][df2['adj_clinton_prob'] <= 50]))\n",
    "print('Trump Win Prob:', (cand_2_wins/20000)*100)\n",
    "print()\n",
    "print('Clinton Wins:', cand_1_wins)\n",
    "print('Clinton Average EC:', np.average(cand_1_ec_avg))\n",
    "print('Clinton Most Likely EC:', np.sum(df2['ec'][df2['adj_clinton_prob'] >= 50]))\n",
    "print('Clinton Win Prob:', (cand_1_wins/20000)*100)"
   ]
  },
  {
   "cell_type": "code",
   "execution_count": null,
   "metadata": {},
   "outputs": [],
   "source": []
  }
 ],
 "metadata": {
  "kernelspec": {
   "display_name": "Python 3",
   "language": "python",
   "name": "python3"
  },
  "language_info": {
   "codemirror_mode": {
    "name": "ipython",
    "version": 3
   },
   "file_extension": ".py",
   "mimetype": "text/x-python",
   "name": "python",
   "nbconvert_exporter": "python",
   "pygments_lexer": "ipython3",
   "version": "3.6.4"
  }
 },
 "nbformat": 4,
 "nbformat_minor": 2
}
