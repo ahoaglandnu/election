{
 "cells": [
  {
   "cell_type": "markdown",
   "metadata": {},
   "source": [
    "# 2018 Senate Forecast using RealClearPolitics Polling Averages\n",
    "### As of November 5, 2018"
   ]
  },
  {
   "cell_type": "markdown",
   "metadata": {},
   "source": [
    "### Arizona"
   ]
  },
  {
   "cell_type": "markdown",
   "metadata": {},
   "source": [
    "![arizona](https://raw.githubusercontent.com/ahoaglandnu/election/master/senate/images_final/az_final.png)"
   ]
  },
  {
   "cell_type": "code",
   "execution_count": 3,
   "metadata": {},
   "outputs": [
    {
     "name": "stdout",
     "output_type": "stream",
     "text": [
      "Probabilities for Sinema Winning (Dems gaining seat)\n",
      "\n",
      "Within MoE: 44.714999999999996%\n",
      "Even Split Undecideds: 44.34%\n",
      "Majority Undecideds: 73.99%\n",
      "All Undecideds: 92.36999999999999%\n"
     ]
    }
   ],
   "source": [
    "x = 47.3 #d\n",
    "y = 47.5 #r*\n",
    "n = 4\n",
    "print('Probabilities for Sinema Winning (Dems gaining seat)')\n",
    "print()\n",
    "print('Within MoE:', sim(x,y,n))\n",
    "print('Even Split Undecideds:', sim(x,y,n,error_type='split'))\n",
    "print('Majority Undecideds:', sim(x,y,n,error_type='uneven'))\n",
    "print('All Undecideds:', sim(x,y,n,error_type='single'))"
   ]
  },
  {
   "cell_type": "markdown",
   "metadata": {},
   "source": [
    "### Florida"
   ]
  },
  {
   "cell_type": "markdown",
   "metadata": {},
   "source": [
    "![florida](https://raw.githubusercontent.com/ahoaglandnu/election/master/senate/images_final/fl_final.png)"
   ]
  },
  {
   "cell_type": "code",
   "execution_count": 4,
   "metadata": {},
   "outputs": [
    {
     "name": "stdout",
     "output_type": "stream",
     "text": [
      "Probabilities for Scott Winning (GOP gaining seat)\n",
      "\n",
      "Within MoE: 23.455000000000002%\n",
      "Even Split Undecideds: 22.975%\n",
      "Majority Undecideds: 37.635000000000005%\n",
      "All Undecideds: 62.724999999999994%\n"
     ]
    }
   ],
   "source": [
    "x = 46.1 #r\n",
    "y = 49.4 #d*\n",
    "n = 5\n",
    "print('Probabilities for Scott Winning (GOP gaining seat)')\n",
    "print()\n",
    "print('Within MoE:', sim(x,y,n))\n",
    "print('Even Split Undecideds:', sim(x,y,n,error_type='split'))\n",
    "print('Majority Undecideds:', sim(x,y,n,error_type='uneven'))\n",
    "print('All Undecideds:', sim(x,y,n,error_type='single'))"
   ]
  },
  {
   "cell_type": "markdown",
   "metadata": {},
   "source": [
    "### Indiana"
   ]
  },
  {
   "cell_type": "markdown",
   "metadata": {},
   "source": [
    "![indiana](https://raw.githubusercontent.com/ahoaglandnu/election/master/senate/images_final/in_final.png)"
   ]
  },
  {
   "cell_type": "code",
   "execution_count": 5,
   "metadata": {},
   "outputs": [
    {
     "name": "stdout",
     "output_type": "stream",
     "text": [
      "Probabilities for Braun Winning (GOP gaining seat)\n",
      "\n",
      "Within MoE: 36.855%\n",
      "Even Split Undecideds: 37.12%\n",
      "Majority Undecideds: 82.855%\n",
      "All Undecideds: 100.0%\n"
     ]
    }
   ],
   "source": [
    "x = 43.0 #r\n",
    "y = 44.3 #d*\n",
    "n = 5\n",
    "print('Probabilities for Braun Winning (GOP gaining seat)')\n",
    "print()\n",
    "print('Within MoE:', sim(x,y,n))\n",
    "print('Even Split Undecideds:', sim(x,y,n,error_type='split'))\n",
    "print('Majority Undecideds:', sim(x,y,n,error_type='uneven'))\n",
    "print('All Undecideds:', sim(x,y,n,error_type='single'))"
   ]
  },
  {
   "cell_type": "markdown",
   "metadata": {},
   "source": [
    "### Missouri"
   ]
  },
  {
   "cell_type": "markdown",
   "metadata": {},
   "source": [
    "![missouri](https://raw.githubusercontent.com/ahoaglandnu/election/master/senate/images_final/mo_final.png)"
   ]
  },
  {
   "cell_type": "code",
   "execution_count": 6,
   "metadata": {},
   "outputs": [
    {
     "name": "stdout",
     "output_type": "stream",
     "text": [
      "Probabilities for McCaskill Winning (Dems keeping seat)\n",
      "\n",
      "Within MoE: 45.71%\n",
      "Even Split Undecideds: 45.379999999999995%\n",
      "Majority Undecideds: 76.84%\n",
      "All Undecideds: 94.78%\n"
     ]
    }
   ],
   "source": [
    "x = 46.2 #d*\n",
    "y = 46.8 #r\n",
    "n = 5\n",
    "print('Probabilities for McCaskill Winning (Dems keeping seat)')\n",
    "print()\n",
    "print('Within MoE:', sim(x,y,n))\n",
    "print('Even Split Undecideds:', sim(x,y,n,error_type='split'))\n",
    "print('Majority Undecideds:', sim(x,y,n,error_type='uneven'))\n",
    "print('All Undecideds:', sim(x,y,n,error_type='single'))"
   ]
  },
  {
   "cell_type": "markdown",
   "metadata": {},
   "source": [
    "### Montana"
   ]
  },
  {
   "cell_type": "markdown",
   "metadata": {},
   "source": [
    "![montana](https://raw.githubusercontent.com/ahoaglandnu/election/master/senate/images_final/mt_final.png)"
   ]
  },
  {
   "cell_type": "code",
   "execution_count": 7,
   "metadata": {},
   "outputs": [
    {
     "name": "stdout",
     "output_type": "stream",
     "text": [
      "Probabilities for Rosendale Winning (GOP gaining seat)\n",
      "\n",
      "Within MoE: 12.67%\n",
      "Even Split Undecideds: 12.395%\n",
      "Majority Undecideds: 44.035000000000004%\n",
      "All Undecideds: 81.535%\n"
     ]
    }
   ],
   "source": [
    "x = 44.0 #r\n",
    "y = 48.5 #d*\n",
    "n = 4\n",
    "print('Probabilities for Rosendale Winning (GOP gaining seat)')\n",
    "print()\n",
    "print('Within MoE:', sim(x,y,n))\n",
    "print('Even Split Undecideds:', sim(x,y,n,error_type='split'))\n",
    "print('Majority Undecideds:', sim(x,y,n,error_type='uneven'))\n",
    "print('All Undecideds:', sim(x,y,n,error_type='single'))"
   ]
  },
  {
   "cell_type": "markdown",
   "metadata": {},
   "source": [
    "### Nevada"
   ]
  },
  {
   "cell_type": "markdown",
   "metadata": {},
   "source": [
    "![nevada](https://raw.githubusercontent.com/ahoaglandnu/election/master/senate/images_final/nv_final.png)"
   ]
  },
  {
   "cell_type": "code",
   "execution_count": 8,
   "metadata": {},
   "outputs": [
    {
     "name": "stdout",
     "output_type": "stream",
     "text": [
      "Probabilities for Rosen Winning (Dems gaining seat)\n",
      "\n",
      "Within MoE: 42.29%\n",
      "Even Split Undecideds: 43.075%\n",
      "Majority Undecideds: 87.725%\n",
      "All Undecideds: 100.0%\n"
     ]
    }
   ],
   "source": [
    "x = 46.7 #d\n",
    "y = 46.7 #r*\n",
    "n = 3\n",
    "print('Probabilities for Rosen Winning (Dems gaining seat)')\n",
    "print()\n",
    "print('Within MoE:', sim(x,y,n))\n",
    "print('Even Split Undecideds:', sim(x,y,n,error_type='split'))\n",
    "print('Majority Undecideds:', sim(x,y,n,error_type='uneven'))\n",
    "print('All Undecideds:', sim(x,y,n,error_type='single'))"
   ]
  },
  {
   "cell_type": "markdown",
   "metadata": {},
   "source": [
    "### North Dakota"
   ]
  },
  {
   "cell_type": "markdown",
   "metadata": {},
   "source": [
    "![north dakota](https://raw.githubusercontent.com/ahoaglandnu/election/master/senate/images_final/nd_final.png)"
   ]
  },
  {
   "cell_type": "code",
   "execution_count": 9,
   "metadata": {},
   "outputs": [
    {
     "name": "stdout",
     "output_type": "stream",
     "text": [
      "Probabilities for Heitkamp Winning (Dems keeping seat)\n",
      "\n",
      "Within MoE: 0.0%\n",
      "Even Split Undecideds: 0.0%\n",
      "Majority Undecideds: 0.0%\n",
      "All Undecideds: 3.65%\n"
     ]
    }
   ],
   "source": [
    "x = 42.3 #d*\n",
    "y = 53.7 #r\n",
    "n = 4\n",
    "print('Probabilities for Heitkamp Winning (Dems keeping seat)')\n",
    "print()\n",
    "print('Within MoE:', sim(x,y,n))\n",
    "print('Even Split Undecideds:', sim(x,y,n,error_type='split'))\n",
    "print('Majority Undecideds:', sim(x,y,n,error_type='uneven'))\n",
    "print('All Undecideds:', sim(x,y,n,error_type='single'))"
   ]
  },
  {
   "cell_type": "markdown",
   "metadata": {},
   "source": [
    "### Tennessee"
   ]
  },
  {
   "cell_type": "markdown",
   "metadata": {},
   "source": [
    "![tennessee](https://raw.githubusercontent.com/ahoaglandnu/election/master/senate/images_final/tn_final.png)"
   ]
  },
  {
   "cell_type": "code",
   "execution_count": 10,
   "metadata": {},
   "outputs": [
    {
     "name": "stdout",
     "output_type": "stream",
     "text": [
      "Probabilities for Bredesen Winning (Dems gaining seat)\n",
      "\n",
      "Within MoE: 12.345%\n",
      "Even Split Undecideds: 12.684999999999999%\n",
      "Majority Undecideds: 30.205%\n",
      "All Undecideds: 62.660000000000004%\n"
     ]
    }
   ],
   "source": [
    "x = 44.0 #d\n",
    "y = 49.2 #r*\n",
    "n = 5\n",
    "print('Probabilities for Bredesen Winning (Dems gaining seat)')\n",
    "print()\n",
    "print('Within MoE:', sim(x,y,n))\n",
    "print('Even Split Undecideds:', sim(x,y,n,error_type='split'))\n",
    "print('Majority Undecideds:', sim(x,y,n,error_type='uneven'))\n",
    "print('All Undecideds:', sim(x,y,n,error_type='single'))"
   ]
  },
  {
   "cell_type": "markdown",
   "metadata": {},
   "source": [
    "### Texas"
   ]
  },
  {
   "cell_type": "markdown",
   "metadata": {},
   "source": [
    "![texas](https://raw.githubusercontent.com/ahoaglandnu/election/master/senate/images_final/tx_final.png)"
   ]
  },
  {
   "cell_type": "code",
   "execution_count": 11,
   "metadata": {},
   "outputs": [
    {
     "name": "stdout",
     "output_type": "stream",
     "text": [
      "Probabilities for O'Rourke Winning (Dems gaining seat)\n",
      "\n",
      "Within MoE: 3.4250000000000003%\n",
      "Even Split Undecideds: 3.665%\n",
      "Majority Undecideds: 12.155000000000001%\n",
      "All Undecideds: 25.480000000000004%\n"
     ]
    }
   ],
   "source": [
    "x = 45 #d\n",
    "y = 51 #r*\n",
    "n = 4\n",
    "print(\"Probabilities for O'Rourke Winning (Dems gaining seat)\")\n",
    "print()\n",
    "print('Within MoE:', sim(x,y,n))\n",
    "print('Even Split Undecideds:', sim(x,y,n,error_type='split'))\n",
    "print('Majority Undecideds:', sim(x,y,n,error_type='uneven'))\n",
    "print('All Undecideds:', sim(x,y,n,error_type='single'))"
   ]
  },
  {
   "cell_type": "markdown",
   "metadata": {},
   "source": [
    "### Minnesota"
   ]
  },
  {
   "cell_type": "markdown",
   "metadata": {},
   "source": [
    "![minnesota](https://raw.githubusercontent.com/ahoaglandnu/election/master/senate/images_final/mn_final.png)"
   ]
  },
  {
   "cell_type": "code",
   "execution_count": 12,
   "metadata": {},
   "outputs": [
    {
     "name": "stdout",
     "output_type": "stream",
     "text": [
      "Probabilities for Housley Winning (GOP gaining seat)\n",
      "\n",
      "Within MoE: 0.8699999999999999%\n",
      "Even Split Undecideds: 0.795%\n",
      "Majority Undecideds: 23.56%\n",
      "All Undecideds: 76.84%\n"
     ]
    }
   ],
   "source": [
    "x = 39 #r \n",
    "y = 48.2 #d*\n",
    "n = 5\n",
    "print(\"Probabilities for Housley Winning (GOP gaining seat)\")\n",
    "print()\n",
    "print('Within MoE:', sim(x,y,n))\n",
    "print('Even Split Undecideds:', sim(x,y,n,error_type='split'))\n",
    "print('Majority Undecideds:', sim(x,y,n,error_type='uneven'))\n",
    "print('All Undecideds:', sim(x,y,n,error_type='single'))"
   ]
  },
  {
   "cell_type": "markdown",
   "metadata": {},
   "source": [
    "### New Jersey "
   ]
  },
  {
   "cell_type": "markdown",
   "metadata": {},
   "source": [
    "![new jersey](https://raw.githubusercontent.com/ahoaglandnu/election/master/senate/images_final/nj_final.png)"
   ]
  },
  {
   "cell_type": "code",
   "execution_count": 13,
   "metadata": {},
   "outputs": [
    {
     "name": "stdout",
     "output_type": "stream",
     "text": [
      "Probabilities for Hugin Winning (GOP gaining seat)\n",
      "\n",
      "Within MoE: 0.9450000000000001%\n",
      "Even Split Undecideds: 0.8049999999999999%\n",
      "Majority Undecideds: 12.540000000000001%\n",
      "All Undecideds: 45.45%\n"
     ]
    }
   ],
   "source": [
    "x = 41.4 #r\n",
    "y = 50.6 #d*\n",
    "n = 5\n",
    "print(\"Probabilities for Hugin Winning (GOP gaining seat)\")\n",
    "print()\n",
    "print('Within MoE:', sim(x,y,n))\n",
    "print('Even Split Undecideds:', sim(x,y,n,error_type='split'))\n",
    "print('Majority Undecideds:', sim(x,y,n,error_type='uneven'))\n",
    "print('All Undecideds:', sim(x,y,n,error_type='single'))"
   ]
  },
  {
   "cell_type": "markdown",
   "metadata": {},
   "source": [
    "### Wisconsin"
   ]
  },
  {
   "cell_type": "markdown",
   "metadata": {},
   "source": [
    "![wisconsin](https://raw.githubusercontent.com/ahoaglandnu/election/master/senate/images_final/wi_final.png)"
   ]
  },
  {
   "cell_type": "code",
   "execution_count": 14,
   "metadata": {},
   "outputs": [
    {
     "name": "stdout",
     "output_type": "stream",
     "text": [
      "Probabilities for Vukmir Winning (GOP gaining seat)\n",
      "\n",
      "Within MoE: 0.0%\n",
      "Even Split Undecideds: 0.0%\n",
      "Majority Undecideds: 2.44%\n",
      "All Undecideds: 17.21%\n"
     ]
    }
   ],
   "source": [
    "x = 41.7 #r\n",
    "y = 52.3 #d*\n",
    "n = 5\n",
    "print(\"Probabilities for Vukmir Winning (GOP gaining seat)\")\n",
    "print()\n",
    "print('Within MoE:', sim(x,y,n))\n",
    "print('Even Split Undecideds:', sim(x,y,n,error_type='split'))\n",
    "print('Majority Undecideds:', sim(x,y,n,error_type='uneven'))\n",
    "print('All Undecideds:', sim(x,y,n,error_type='single'))"
   ]
  },
  {
   "cell_type": "markdown",
   "metadata": {},
   "source": [
    "### West Virginia"
   ]
  },
  {
   "cell_type": "markdown",
   "metadata": {},
   "source": [
    "![west virginia](https://raw.githubusercontent.com/ahoaglandnu/election/master/senate/images_final/wv_final.png)"
   ]
  },
  {
   "cell_type": "code",
   "execution_count": 15,
   "metadata": {},
   "outputs": [
    {
     "name": "stdout",
     "output_type": "stream",
     "text": [
      "Probabilities for Morrisey Winning (GOP gaining seat)\n",
      "\n",
      "Within MoE: 12.620000000000001%\n",
      "Even Split Undecideds: 12.790000000000001%\n",
      "Majority Undecideds: 54.315000000000005%\n",
      "All Undecideds: 95.11%\n"
     ]
    }
   ],
   "source": [
    "x = 41.0 #r\n",
    "y = 46.0 #d*\n",
    "n = 5\n",
    "print(\"Probabilities for Morrisey Winning (GOP gaining seat)\")\n",
    "print()\n",
    "print('Within MoE:', sim(x,y,n))\n",
    "print('Even Split Undecideds:', sim(x,y,n,error_type='split'))\n",
    "print('Majority Undecideds:', sim(x,y,n,error_type='uneven'))\n",
    "print('All Undecideds:', sim(x,y,n,error_type='single'))"
   ]
  },
  {
   "cell_type": "markdown",
   "metadata": {},
   "source": [
    "# Likely GOP"
   ]
  },
  {
   "cell_type": "markdown",
   "metadata": {},
   "source": [
    "### Mississippi"
   ]
  },
  {
   "cell_type": "markdown",
   "metadata": {},
   "source": [
    "![miss](https://raw.githubusercontent.com/ahoaglandnu/election/master/senate/images_final/ms_final.png)"
   ]
  },
  {
   "cell_type": "code",
   "execution_count": 16,
   "metadata": {},
   "outputs": [
    {
     "name": "stdout",
     "output_type": "stream",
     "text": [
      "Probabilities for Espy (Dems gaining seat)\n",
      "\n",
      "Within MoE: 3.4750000000000005%\n",
      "Even Split Undecideds: 3.785%\n",
      "Majority Undecideds: 87.21%\n",
      "All Undecideds: 100.0%\n"
     ]
    }
   ],
   "source": [
    "x = 29 #d\n",
    "y = 38 #r*\n",
    "n = 6\n",
    "print(\"Probabilities for Espy (Dems gaining seat)\")\n",
    "print()\n",
    "print('Within MoE:', sim(x,y,n))\n",
    "print('Even Split Undecideds:', sim(x,y,n,error_type='split'))\n",
    "print('Majority Undecideds:', sim(x,y,n,error_type='uneven'))\n",
    "print('All Undecideds:', sim(x,y,n,error_type='single'))"
   ]
  },
  {
   "cell_type": "markdown",
   "metadata": {},
   "source": [
    "# Likely Dem"
   ]
  },
  {
   "cell_type": "markdown",
   "metadata": {},
   "source": [
    "### Michigan"
   ]
  },
  {
   "cell_type": "markdown",
   "metadata": {},
   "source": [
    "![michigan](https://raw.githubusercontent.com/ahoaglandnu/election/master/senate/images_final/mi_final.png)"
   ]
  },
  {
   "cell_type": "code",
   "execution_count": 17,
   "metadata": {},
   "outputs": [
    {
     "name": "stdout",
     "output_type": "stream",
     "text": [
      "Probabilities for James Winning (GOP gaining seat)\n",
      "\n",
      "Within MoE: 0.0%\n",
      "Even Split Undecideds: 0.0%\n",
      "Majority Undecideds: 0.0%\n",
      "All Undecideds: 12.325%\n"
     ]
    }
   ],
   "source": [
    "x = 41.8 #r\n",
    "y = 52.3 #d*\n",
    "n = 4\n",
    "print(\"Probabilities for James Winning (GOP gaining seat)\")\n",
    "print()\n",
    "print('Within MoE:', sim(x,y,n))\n",
    "print('Even Split Undecideds:', sim(x,y,n,error_type='split'))\n",
    "print('Majority Undecideds:', sim(x,y,n,error_type='uneven'))\n",
    "print('All Undecideds:', sim(x,y,n,error_type='single'))"
   ]
  },
  {
   "cell_type": "markdown",
   "metadata": {},
   "source": [
    "### Ohio"
   ]
  },
  {
   "cell_type": "markdown",
   "metadata": {},
   "source": [
    "![ohio](https://raw.githubusercontent.com/ahoaglandnu/election/master/senate/images_final/oh_final.png)"
   ]
  },
  {
   "cell_type": "code",
   "execution_count": 18,
   "metadata": {},
   "outputs": [
    {
     "name": "stdout",
     "output_type": "stream",
     "text": [
      "Probabilities for Renacci Winning (GOP gaining seat)\n",
      "\n",
      "Within MoE: 5.12%\n",
      "Even Split Undecideds: 4.9750000000000005%\n",
      "Majority Undecideds: 36.555%\n",
      "All Undecideds: 87.31%\n"
     ]
    }
   ],
   "source": [
    "x = 40.0 #r\n",
    "y = 47.5 #d*\n",
    "n = 5\n",
    "print(\"Probabilities for Renacci Winning (GOP gaining seat)\")\n",
    "print()\n",
    "print('Within MoE:', sim(x,y,n))\n",
    "print('Even Split Undecideds:', sim(x,y,n,error_type='split'))\n",
    "print('Majority Undecideds:', sim(x,y,n,error_type='uneven'))\n",
    "print('All Undecideds:', sim(x,y,n,error_type='single'))"
   ]
  },
  {
   "cell_type": "markdown",
   "metadata": {},
   "source": [
    "### Pennsylvania"
   ]
  },
  {
   "cell_type": "markdown",
   "metadata": {},
   "source": [
    "![pennsylvania](https://raw.githubusercontent.com/ahoaglandnu/election/master/senate/images_final/pa_final.png)"
   ]
  },
  {
   "cell_type": "code",
   "execution_count": 19,
   "metadata": {},
   "outputs": [
    {
     "name": "stdout",
     "output_type": "stream",
     "text": [
      "Probabilities for Barletta Winning (GOP gaining seat)\n",
      "\n",
      "Within MoE: 0.0%\n",
      "Even Split Undecideds: 0.0%\n",
      "Majority Undecideds: 1.72%\n",
      "All Undecideds: 21.065%\n"
     ]
    }
   ],
   "source": [
    "x = 37.7 #r\n",
    "y = 52.0 #d*\n",
    "n = 6\n",
    "print(\"Probabilities for Barletta Winning (GOP gaining seat)\")\n",
    "print()\n",
    "print('Within MoE:', sim(x,y,n))\n",
    "print('Even Split Undecideds:', sim(x,y,n,error_type='split'))\n",
    "print('Majority Undecideds:', sim(x,y,n,error_type='uneven'))\n",
    "print('All Undecideds:', sim(x,y,n,error_type='single'))"
   ]
  },
  {
   "cell_type": "markdown",
   "metadata": {},
   "source": [
    "### Code"
   ]
  },
  {
   "cell_type": "code",
   "execution_count": 1,
   "metadata": {},
   "outputs": [],
   "source": [
    "import random\n",
    "def moe(x, y, n):\n",
    "    moe_x = random.choice(range((n*-1),(n+1),1))\n",
    "    moe_y = random.choice(range((n*-1),(n+1),1))\n",
    "    x += moe_x\n",
    "    y += moe_y\n",
    "    return x, y\n",
    "\n",
    "def single_undecided_moe(x, y, n):\n",
    "    prob_error = 100 - x - y\n",
    "    x += prob_error\n",
    "    moex = random.choice(range((n*-1),(n+1),1))\n",
    "    moey = random.choice(range((n*-1),(n+1),1))\n",
    "    x += moex\n",
    "    y += moey\n",
    "    return x, y\n",
    "\n",
    "def split_undecided_moe(x, y, n):\n",
    "    prob_error = 100 - x - y\n",
    "    x += (prob_error/2)\n",
    "    y += (prob_error/2)\n",
    "    moex = random.choice(range((n*-1),(n+1),1))\n",
    "    moey = random.choice(range((n*-1),(n+1),1))\n",
    "    x += moex\n",
    "    y += moey\n",
    "    return x, y\n",
    "\n",
    "def uneven_split_undecided_moe(x, y, n):\n",
    "    prob_error = 100 - x - y\n",
    "    x += ((prob_error/4)*3)\n",
    "    y += (prob_error/4)\n",
    "    moex = random.choice(range((n*-1),(n+1),1))\n",
    "    moey = random.choice(range((n*-1),(n+1),1))\n",
    "    x += moex\n",
    "    y += moey\n",
    "    return x, y"
   ]
  },
  {
   "cell_type": "code",
   "execution_count": 2,
   "metadata": {},
   "outputs": [],
   "source": [
    "def sim(x, y, n, error_type='moe', number_of_elections=20000):\n",
    "    x = int(x)\n",
    "    y = int(y)\n",
    "    n = int(n)\n",
    "    wins = 0 \n",
    "    for i in range(number_of_elections):\n",
    "        if error_type == 'single':\n",
    "            x1, y1 = single_undecided_moe(x, y, n)\n",
    "            victory = x1 - y1\n",
    "            if victory >= 1:\n",
    "                wins += 1\n",
    "        elif error_type == 'split':\n",
    "            x1, y1 = split_undecided_moe(x, y, n)\n",
    "            victory = x1 - y1\n",
    "            if victory >= 1:\n",
    "                wins += 1\n",
    "        elif error_type == 'uneven':\n",
    "            x1, y1 = uneven_split_undecided_moe(x, y, n)\n",
    "            victory = x1 - y1\n",
    "            if victory >= 1:\n",
    "                wins += 1\n",
    "        else:\n",
    "            x1, y1 = moe(x, y, n)\n",
    "            victory = x1 - y1\n",
    "            if victory >= 1:\n",
    "                wins += 1\n",
    "    wins_percentage = str((float(wins) / number_of_elections)*100)+'%'\n",
    "    return wins_percentage"
   ]
  }
 ],
 "metadata": {
  "kernelspec": {
   "display_name": "Python 3",
   "language": "python",
   "name": "python3"
  },
  "language_info": {
   "codemirror_mode": {
    "name": "ipython",
    "version": 3
   },
   "file_extension": ".py",
   "mimetype": "text/x-python",
   "name": "python",
   "nbconvert_exporter": "python",
   "pygments_lexer": "ipython3",
   "version": "3.6.6"
  }
 },
 "nbformat": 4,
 "nbformat_minor": 2
}
