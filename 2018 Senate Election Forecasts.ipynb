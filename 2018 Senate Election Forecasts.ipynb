{
 "cells": [
  {
   "cell_type": "markdown",
   "metadata": {},
   "source": [
    "# 2018 Senate Forecast using RealClearPolitics Polling Averages"
   ]
  },
  {
   "cell_type": "markdown",
   "metadata": {},
   "source": [
    "In the last few weeks of an election, close races are decided by which candidate wins the majority of the undecided voters. This notebook will illustrate that point along with the range of how many undecided voters an underdog candidate would need in order to win."
   ]
  },
  {
   "cell_type": "markdown",
   "metadata": {},
   "source": [
    "![nation](https://raw.githubusercontent.com/ahoaglandnu/election/master/senate/nation.png)"
   ]
  },
  {
   "cell_type": "markdown",
   "metadata": {},
   "source": [
    "![legend](https://raw.githubusercontent.com/ahoaglandnu/election/master/senate/nation_legend.png)"
   ]
  },
  {
   "cell_type": "markdown",
   "metadata": {},
   "source": [
    "# How This Works"
   ]
  },
  {
   "cell_type": "markdown",
   "metadata": {},
   "source": [
    "Senate races are in alphabetical order just like the map above and according to its RCP category. Simply scroll down to the Senate race you are interested to see how many undecided voters an underdog candidate would need to have a high probability of winning their rece.  \n",
    "\n",
    "The \"safe\" races are not featured as these candidates have a polling lead beyond the margin of error and including of all undecided voters cast ballots for their opponent."
   ]
  },
  {
   "cell_type": "markdown",
   "metadata": {},
   "source": [
    "### A Quick Review On How We Create Probability from Polling"
   ]
  },
  {
   "cell_type": "markdown",
   "metadata": {},
   "source": [
    "The state polling average is the average from multiple polling companies using different margins of error. For example, if a candidate has a polling average of 50% with an assumed margin of error of +/- 4, that means the truth is in the range of 46 to 54. Their opponent has a polling average of 46% with an assumed margin of error of +/- 4, that means the truth is in the range of 42 to 50."
   ]
  },
  {
   "cell_type": "markdown",
   "metadata": {},
   "source": [
    "![example7](https://raw.githubusercontent.com/ahoaglandnu/election/master/images/ex7.png)"
   ]
  },
  {
   "cell_type": "markdown",
   "metadata": {},
   "source": [
    "**This means we can have one candidate leading in the polls but ultimately lose the election.\n",
    "![example8](https://raw.githubusercontent.com/ahoaglandnu/election/master/images/ex8.png)\n",
    "It also means we can have the candidate that lead in the polls win larger than expected.**\n",
    "![example9](https://raw.githubusercontent.com/ahoaglandnu/election/master/images/ex9.png)"
   ]
  },
  {
   "cell_type": "markdown",
   "metadata": {},
   "source": [
    "We can see from the chart above there are states that are \"safe states\" for candidates. These safe states are states in which one candidate does not overlap the other within the margin of error. In other words, one candidate's *lowest* possible result is above another candidate's *highest* possible result."
   ]
  },
  {
   "cell_type": "markdown",
   "metadata": {},
   "source": [
    "![example12](https://raw.githubusercontent.com/ahoaglandnu/election/master/images/ex12.png)"
   ]
  },
  {
   "cell_type": "markdown",
   "metadata": {},
   "source": [
    "To get a probability we will randomly select a number from the margin of error for a candidate and randomly select another number from the margin of error for their opponent. After repeating this process thousands of times, we can get a percentage of times one candidate had more votes than the other. Through this simulation, we will have our probability."
   ]
  },
  {
   "cell_type": "markdown",
   "metadata": {},
   "source": [
    "For a more in-depth breakdown of this process, you can read my previous tutorial here:   \n",
    "[Assigning State Probabilities and 2016 Election Forecast Simulations](http://nbviewer.jupyter.org/github/Ahoaglandnu/election/blob/master/Assigning%20State%20Probabilities%20and%202016%20Election%20Forecast%20Simulations.ipynb)"
   ]
  },
  {
   "cell_type": "markdown",
   "metadata": {},
   "source": [
    "# Senate Probabilities"
   ]
  },
  {
   "cell_type": "markdown",
   "metadata": {},
   "source": [
    "One of the things you may notice from polling data is that it does not always add up to 100%. This is because of the survey response option of \"not sure\" or \"undecided.\"   "
   ]
  },
  {
   "cell_type": "markdown",
   "metadata": {},
   "source": [
    "Because of undecided voters in polling and their ability to ultimately decided close races, we will have four probabillities.   \n",
    "- The first is if the final results are within the margin of error.\n",
    "- The second is if half the undecided voters are split between candidates.\n",
    "- The third is if 75% of undecided voters vote for the underdog candidate (candidate behind in the polls). \n",
    "- The fourth is if ALL of undecided voters vote for the underdog candidate (candidate behind in the polls)."
   ]
  },
  {
   "cell_type": "markdown",
   "metadata": {},
   "source": [
    "**Note:** Any ties in polling average, the candidate with the lowest polling lead in recent polls will be considered the underdog.  \n",
    "\n",
    "For example, in Florida, Senator Nelson was in the lead in two out of the last three polls. But in the more recent poll, Governor Scott was in the lead by a higher percentage than any of the polls that showed a Nelson lead, therefore we will treat Nelson as the underdog of that race."
   ]
  },
  {
   "cell_type": "markdown",
   "metadata": {},
   "source": [
    "**Note:** In cases where a third-party candidate is in the race, those will be treated as part of the undecided voters. This was one of the key lessons learned from the 2016 election cycle as third-party support was over-represented in polls compared to the final election results."
   ]
  },
  {
   "cell_type": "markdown",
   "metadata": {},
   "source": [
    "### Code"
   ]
  },
  {
   "cell_type": "code",
   "execution_count": 1,
   "metadata": {},
   "outputs": [],
   "source": [
    "import random\n",
    "def moe(x, y, n):\n",
    "    moe_x = random.choice(range((n*-1),(n+1),1))\n",
    "    moe_y = random.choice(range((n*-1),(n+1),1))\n",
    "    x += moe_x\n",
    "    y += moe_y\n",
    "    return x, y\n",
    "\n",
    "def single_undecided_moe(x, y, n):\n",
    "    prob_error = 100 - x - y\n",
    "    x += prob_error\n",
    "    moex = random.choice(range((n*-1),(n+1),1))\n",
    "    moey = random.choice(range((n*-1),(n+1),1))\n",
    "    x += moex\n",
    "    y += moey\n",
    "    return x, y\n",
    "\n",
    "def split_undecided_moe(x, y, n):\n",
    "    prob_error = 100 - x - y\n",
    "    x += (prob_error/2)\n",
    "    y += (prob_error/2)\n",
    "    moex = random.choice(range((n*-1),(n+1),1))\n",
    "    moey = random.choice(range((n*-1),(n+1),1))\n",
    "    x += moex\n",
    "    y += moey\n",
    "    return x, y\n",
    "\n",
    "def uneven_split_undecided_moe(x, y, n):\n",
    "    prob_error = 100 - x - y\n",
    "    x += ((prob_error/4)*3)\n",
    "    y += (prob_error/4)\n",
    "    moex = random.choice(range((n*-1),(n+1),1))\n",
    "    moey = random.choice(range((n*-1),(n+1),1))\n",
    "    x += moex\n",
    "    y += moey\n",
    "    return x, y"
   ]
  },
  {
   "cell_type": "code",
   "execution_count": 2,
   "metadata": {},
   "outputs": [],
   "source": [
    "def sim(x, y, n, error_type='moe', number_of_elections=20000):\n",
    "    x = int(x)\n",
    "    y = int(y)\n",
    "    n = int(n)\n",
    "    wins = 0 \n",
    "    for i in range(number_of_elections):\n",
    "        if error_type == 'single':\n",
    "            x1, y1 = single_undecided_moe(x, y, n)\n",
    "            victory = x1 - y1\n",
    "            if victory >= 1:\n",
    "                wins += 1\n",
    "        elif error_type == 'split':\n",
    "            x1, y1 = split_undecided_moe(x, y, n)\n",
    "            victory = x1 - y1\n",
    "            if victory >= 1:\n",
    "                wins += 1\n",
    "        elif error_type == 'uneven':\n",
    "            x1, y1 = uneven_split_undecided_moe(x, y, n)\n",
    "            victory = x1 - y1\n",
    "            if victory >= 1:\n",
    "                wins += 1\n",
    "        else:\n",
    "            x1, y1 = moe(x, y, n)\n",
    "            victory = x1 - y1\n",
    "            if victory >= 1:\n",
    "                wins += 1\n",
    "    wins_percentage = str((float(wins) / number_of_elections)*100)+'%'\n",
    "    return wins_percentage"
   ]
  },
  {
   "cell_type": "markdown",
   "metadata": {},
   "source": [
    "# Toss Up States"
   ]
  },
  {
   "cell_type": "markdown",
   "metadata": {},
   "source": [
    "### Arizona"
   ]
  },
  {
   "cell_type": "markdown",
   "metadata": {},
   "source": [
    "![arizona](https://raw.githubusercontent.com/ahoaglandnu/election/master/senate/ariz.png)"
   ]
  },
  {
   "cell_type": "code",
   "execution_count": 3,
   "metadata": {},
   "outputs": [
    {
     "name": "stdout",
     "output_type": "stream",
     "text": [
      "Probabilities for Sinema Winning (Dems gaining seat)\n",
      "\n",
      "Within MoE: 34.52%\n",
      "Even Split Undecideds: 34.599999999999994%\n",
      "Majority Undecideds: 73.785%\n",
      "All Undecideds: 98.885%\n"
     ]
    }
   ],
   "source": [
    "x = 45.3 #d\n",
    "y = 46 #r*\n",
    "n = 4\n",
    "print('Probabilities for Sinema Winning (Dems gaining seat)')\n",
    "print()\n",
    "print('Within MoE:', sim(x,y,n))\n",
    "print('Even Split Undecideds:', sim(x,y,n,error_type='split'))\n",
    "print('Majority Undecideds:', sim(x,y,n,error_type='uneven'))\n",
    "print('All Undecideds:', sim(x,y,n,error_type='single'))"
   ]
  },
  {
   "cell_type": "markdown",
   "metadata": {},
   "source": [
    "### Florida"
   ]
  },
  {
   "cell_type": "markdown",
   "metadata": {},
   "source": [
    "![florida](https://raw.githubusercontent.com/ahoaglandnu/election/master/senate/florida.png)"
   ]
  },
  {
   "cell_type": "code",
   "execution_count": 4,
   "metadata": {},
   "outputs": [
    {
     "name": "stdout",
     "output_type": "stream",
     "text": [
      "Probabilities for Nelson Winning (Dems keeping seat)\n",
      "\n",
      "Within MoE: 44.795%\n",
      "Even Split Undecideds: 44.13%\n",
      "Majority Undecideds: 81.46%\n",
      "All Undecideds: 98.845%\n"
     ]
    }
   ],
   "source": [
    "x = 46.3 #d*\n",
    "y = 46.3 #r\n",
    "n = 4\n",
    "print('Probabilities for Nelson Winning (Dems keeping seat)')\n",
    "print()\n",
    "print('Within MoE:', sim(x,y,n))\n",
    "print('Even Split Undecideds:', sim(x,y,n,error_type='split'))\n",
    "print('Majority Undecideds:', sim(x,y,n,error_type='uneven'))\n",
    "print('All Undecideds:', sim(x,y,n,error_type='single'))"
   ]
  },
  {
   "cell_type": "markdown",
   "metadata": {},
   "source": [
    "### Indiana"
   ]
  },
  {
   "cell_type": "markdown",
   "metadata": {},
   "source": [
    "![indiana](https://raw.githubusercontent.com/ahoaglandnu/election/master/senate/indiana.png)"
   ]
  },
  {
   "cell_type": "code",
   "execution_count": 5,
   "metadata": {},
   "outputs": [
    {
     "name": "stdout",
     "output_type": "stream",
     "text": [
      "Probabilities for Braun Winning (GOP gaining seat)\n",
      "\n",
      "Within MoE: 23.29%\n",
      "Even Split Undecideds: 23.435%\n",
      "Majority Undecideds: 82.88%\n",
      "All Undecideds: 100.0%\n"
     ]
    }
   ],
   "source": [
    "x = 40.7 #r\n",
    "y = 43.7 #d*\n",
    "n = 5\n",
    "print('Probabilities for Braun Winning (GOP gaining seat)')\n",
    "print()\n",
    "print('Within MoE:', sim(x,y,n))\n",
    "print('Even Split Undecideds:', sim(x,y,n,error_type='split'))\n",
    "print('Majority Undecideds:', sim(x,y,n,error_type='uneven'))\n",
    "print('All Undecideds:', sim(x,y,n,error_type='single'))"
   ]
  },
  {
   "cell_type": "markdown",
   "metadata": {},
   "source": [
    "### Missouri"
   ]
  },
  {
   "cell_type": "markdown",
   "metadata": {},
   "source": [
    "![missouri](https://raw.githubusercontent.com/ahoaglandnu/election/master/senate/missouri.png)"
   ]
  },
  {
   "cell_type": "code",
   "execution_count": 6,
   "metadata": {},
   "outputs": [
    {
     "name": "stdout",
     "output_type": "stream",
     "text": [
      "Probabilities for McCaskill Winning (Dems keeping seat)\n",
      "\n",
      "Within MoE: 34.35%\n",
      "Even Split Undecideds: 34.325%\n",
      "Majority Undecideds: 74.32%\n",
      "All Undecideds: 98.80499999999999%\n"
     ]
    }
   ],
   "source": [
    "x = 45.8 #d*\n",
    "y = 46.3 #r\n",
    "n = 4\n",
    "print('Probabilities for McCaskill Winning (Dems keeping seat)')\n",
    "print()\n",
    "print('Within MoE:', sim(x,y,n))\n",
    "print('Even Split Undecideds:', sim(x,y,n,error_type='split'))\n",
    "print('Majority Undecideds:', sim(x,y,n,error_type='uneven'))\n",
    "print('All Undecideds:', sim(x,y,n,error_type='single'))"
   ]
  },
  {
   "cell_type": "markdown",
   "metadata": {},
   "source": [
    "### Montana"
   ]
  },
  {
   "cell_type": "markdown",
   "metadata": {},
   "source": [
    "![montana](https://raw.githubusercontent.com/ahoaglandnu/election/master/senate/mt.png)"
   ]
  },
  {
   "cell_type": "code",
   "execution_count": 7,
   "metadata": {},
   "outputs": [
    {
     "name": "stdout",
     "output_type": "stream",
     "text": [
      "Probabilities for Rosendale Winning (GOP gaining seat)\n",
      "\n",
      "Within MoE: 18.61%\n",
      "Even Split Undecideds: 18.145%\n",
      "Majority Undecideds: 44.86%\n",
      "All Undecideds: 81.33%\n"
     ]
    }
   ],
   "source": [
    "x = 45.3 #r\n",
    "y = 48.3 #d*\n",
    "n = 4\n",
    "print('Probabilities for Rosendale Winning (GOP gaining seat)')\n",
    "print()\n",
    "print('Within MoE:', sim(x,y,n))\n",
    "print('Even Split Undecideds:', sim(x,y,n,error_type='split'))\n",
    "print('Majority Undecideds:', sim(x,y,n,error_type='uneven'))\n",
    "print('All Undecideds:', sim(x,y,n,error_type='single'))"
   ]
  },
  {
   "cell_type": "markdown",
   "metadata": {},
   "source": [
    "### Nevada"
   ]
  },
  {
   "cell_type": "markdown",
   "metadata": {},
   "source": [
    "![nevada](https://raw.githubusercontent.com/ahoaglandnu/election/master/senate/nv.png)"
   ]
  },
  {
   "cell_type": "code",
   "execution_count": 8,
   "metadata": {},
   "outputs": [
    {
     "name": "stdout",
     "output_type": "stream",
     "text": [
      "Probabilities for Rosen Winning (Dems gaining seat)\n",
      "\n",
      "Within MoE: 29.849999999999998%\n",
      "Even Split Undecideds: 30.48%\n",
      "Majority Undecideds: 70.505%\n",
      "All Undecideds: 95.23%\n"
     ]
    }
   ],
   "source": [
    "x = 44.3 #r\n",
    "y = 46.0 #d*\n",
    "n = 5\n",
    "print('Probabilities for Rosen Winning (Dems gaining seat)')\n",
    "print()\n",
    "print('Within MoE:', sim(x,y,n))\n",
    "print('Even Split Undecideds:', sim(x,y,n,error_type='split'))\n",
    "print('Majority Undecideds:', sim(x,y,n,error_type='uneven'))\n",
    "print('All Undecideds:', sim(x,y,n,error_type='single'))"
   ]
  },
  {
   "cell_type": "markdown",
   "metadata": {},
   "source": [
    "# Leans GOP"
   ]
  },
  {
   "cell_type": "markdown",
   "metadata": {},
   "source": [
    "### North Dakota"
   ]
  },
  {
   "cell_type": "markdown",
   "metadata": {},
   "source": [
    "![north dakota](https://raw.githubusercontent.com/ahoaglandnu/election/master/senate/nd.png)"
   ]
  },
  {
   "cell_type": "code",
   "execution_count": 9,
   "metadata": {},
   "outputs": [
    {
     "name": "stdout",
     "output_type": "stream",
     "text": [
      "Probabilities for Heitkamp Winning (Dems keeping seat)\n",
      "\n",
      "Within MoE: 0.0%\n",
      "Even Split Undecideds: 0.0%\n",
      "Majority Undecideds: 12.525%\n",
      "All Undecideds: 44.095%\n"
     ]
    }
   ],
   "source": [
    "x = 42.0 #d*\n",
    "y = 50.7 #r\n",
    "n = 4\n",
    "print('Probabilities for Heitkamp Winning (Dems keeping seat)')\n",
    "print()\n",
    "print('Within MoE:', sim(x,y,n))\n",
    "print('Even Split Undecideds:', sim(x,y,n,error_type='split'))\n",
    "print('Majority Undecideds:', sim(x,y,n,error_type='uneven'))\n",
    "print('All Undecideds:', sim(x,y,n,error_type='single'))"
   ]
  },
  {
   "cell_type": "markdown",
   "metadata": {},
   "source": [
    "### Tennessee"
   ]
  },
  {
   "cell_type": "markdown",
   "metadata": {},
   "source": [
    "![tennessee](https://raw.githubusercontent.com/ahoaglandnu/election/master/senate/tenn.png)"
   ]
  },
  {
   "cell_type": "code",
   "execution_count": 10,
   "metadata": {},
   "outputs": [
    {
     "name": "stdout",
     "output_type": "stream",
     "text": [
      "Probabilities for Bredesen Winning (Dems gaining seat)\n",
      "\n",
      "Within MoE: 3.5749999999999997%\n",
      "Even Split Undecideds: 3.6999999999999997%\n",
      "Majority Undecideds: 34.575%\n",
      "All Undecideds: 81.325%\n"
     ]
    }
   ],
   "source": [
    "x = 42.3 #d\n",
    "y = 48.8 #r*\n",
    "n = 4\n",
    "print('Probabilities for Bredesen Winning (Dems gaining seat)')\n",
    "print()\n",
    "print('Within MoE:', sim(x,y,n))\n",
    "print('Even Split Undecideds:', sim(x,y,n,error_type='split'))\n",
    "print('Majority Undecideds:', sim(x,y,n,error_type='uneven'))\n",
    "print('All Undecideds:', sim(x,y,n,error_type='single'))"
   ]
  },
  {
   "cell_type": "markdown",
   "metadata": {},
   "source": [
    "### Texas"
   ]
  },
  {
   "cell_type": "markdown",
   "metadata": {},
   "source": [
    "![texas](https://raw.githubusercontent.com/ahoaglandnu/election/master/senate/texas.png)"
   ]
  },
  {
   "cell_type": "code",
   "execution_count": 11,
   "metadata": {},
   "outputs": [
    {
     "name": "stdout",
     "output_type": "stream",
     "text": [
      "Probabilities for O'Rourke Winning (Dems gaining seat)\n",
      "\n",
      "Within MoE: 5.075%\n",
      "Even Split Undecideds: 5.125%\n",
      "Majority Undecideds: 17.630000000000003%\n",
      "All Undecideds: 45.795%\n"
     ]
    }
   ],
   "source": [
    "x = 43.8 #d\n",
    "y = 50.8 #r*\n",
    "n = 5\n",
    "print(\"Probabilities for O'Rourke Winning (Dems gaining seat)\")\n",
    "print()\n",
    "print('Within MoE:', sim(x,y,n))\n",
    "print('Even Split Undecideds:', sim(x,y,n,error_type='split'))\n",
    "print('Majority Undecideds:', sim(x,y,n,error_type='uneven'))\n",
    "print('All Undecideds:', sim(x,y,n,error_type='single'))"
   ]
  },
  {
   "cell_type": "markdown",
   "metadata": {},
   "source": [
    "# Leans Dem"
   ]
  },
  {
   "cell_type": "markdown",
   "metadata": {},
   "source": [
    "### Minnesota"
   ]
  },
  {
   "cell_type": "markdown",
   "metadata": {},
   "source": [
    "![minnesota](https://raw.githubusercontent.com/ahoaglandnu/election/master/senate/minn.png)"
   ]
  },
  {
   "cell_type": "code",
   "execution_count": 12,
   "metadata": {},
   "outputs": [
    {
     "name": "stdout",
     "output_type": "stream",
     "text": [
      "Probabilities for Housley Winning (GOP gaining seat)\n",
      "\n",
      "Within MoE: 0.0%\n",
      "Even Split Undecideds: 0.0%\n",
      "Majority Undecideds: 30.0%\n",
      "All Undecideds: 87.30499999999999%\n"
     ]
    }
   ],
   "source": [
    "x = 37.8 #r\n",
    "y = 47.5 #d*\n",
    "n = 5\n",
    "print(\"Probabilities for Housley Winning (GOP gaining seat)\")\n",
    "print()\n",
    "print('Within MoE:', sim(x,y,n))\n",
    "print('Even Split Undecideds:', sim(x,y,n,error_type='split'))\n",
    "print('Majority Undecideds:', sim(x,y,n,error_type='uneven'))\n",
    "print('All Undecideds:', sim(x,y,n,error_type='single'))"
   ]
  },
  {
   "cell_type": "markdown",
   "metadata": {},
   "source": [
    "### New Jersey "
   ]
  },
  {
   "cell_type": "markdown",
   "metadata": {},
   "source": [
    "![new jersey](https://raw.githubusercontent.com/ahoaglandnu/election/master/senate/nj.png)"
   ]
  },
  {
   "cell_type": "code",
   "execution_count": 13,
   "metadata": {},
   "outputs": [
    {
     "name": "stdout",
     "output_type": "stream",
     "text": [
      "Probabilities for Hugin Winning (GOP gaining seat)\n",
      "\n",
      "Within MoE: 0.0%\n",
      "Even Split Undecideds: 0.0%\n",
      "Majority Undecideds: 25.715%\n",
      "All Undecideds: 81.69%\n"
     ]
    }
   ],
   "source": [
    "x = 40.0 #r\n",
    "y = 48.0 #d*\n",
    "n = 4\n",
    "print(\"Probabilities for Hugin Winning (GOP gaining seat)\")\n",
    "print()\n",
    "print('Within MoE:', sim(x,y,n))\n",
    "print('Even Split Undecideds:', sim(x,y,n,error_type='split'))\n",
    "print('Majority Undecideds:', sim(x,y,n,error_type='uneven'))\n",
    "print('All Undecideds:', sim(x,y,n,error_type='single'))"
   ]
  },
  {
   "cell_type": "markdown",
   "metadata": {},
   "source": [
    "### Wisconsin"
   ]
  },
  {
   "cell_type": "markdown",
   "metadata": {},
   "source": [
    "![wisconsin](https://raw.githubusercontent.com/ahoaglandnu/election/master/senate/wisc.png)"
   ]
  },
  {
   "cell_type": "code",
   "execution_count": 14,
   "metadata": {},
   "outputs": [
    {
     "name": "stdout",
     "output_type": "stream",
     "text": [
      "Probabilities for Vukmir Winning (GOP gaining seat)\n",
      "\n",
      "Within MoE: 0.0%\n",
      "Even Split Undecideds: 0.0%\n",
      "Majority Undecideds: 2.62%\n",
      "All Undecideds: 17.29%\n"
     ]
    }
   ],
   "source": [
    "x = 41.7 #r\n",
    "y = 52.3 #d*\n",
    "n = 5\n",
    "print(\"Probabilities for Vukmir Winning (GOP gaining seat)\")\n",
    "print()\n",
    "print('Within MoE:', sim(x,y,n))\n",
    "print('Even Split Undecideds:', sim(x,y,n,error_type='split'))\n",
    "print('Majority Undecideds:', sim(x,y,n,error_type='uneven'))\n",
    "print('All Undecideds:', sim(x,y,n,error_type='single'))"
   ]
  },
  {
   "cell_type": "markdown",
   "metadata": {},
   "source": [
    "### West Virginia"
   ]
  },
  {
   "cell_type": "markdown",
   "metadata": {},
   "source": [
    "![west virginia](https://raw.githubusercontent.com/ahoaglandnu/election/master/senate/wv.png)"
   ]
  },
  {
   "cell_type": "code",
   "execution_count": 15,
   "metadata": {},
   "outputs": [
    {
     "name": "stdout",
     "output_type": "stream",
     "text": [
      "Probabilities for Morrisey Winning (GOP gaining seat)\n",
      "\n",
      "Within MoE: 0.765%\n",
      "Even Split Undecideds: 0.885%\n",
      "Majority Undecideds: 45.775%\n",
      "All Undecideds: 99.14500000000001%\n"
     ]
    }
   ],
   "source": [
    "x = 36.3 #r\n",
    "y = 45.7 #d*\n",
    "n = 5\n",
    "print(\"Probabilities for Morrisey Winning (GOP gaining seat)\")\n",
    "print()\n",
    "print('Within MoE:', sim(x,y,n))\n",
    "print('Even Split Undecideds:', sim(x,y,n,error_type='split'))\n",
    "print('Majority Undecideds:', sim(x,y,n,error_type='uneven'))\n",
    "print('All Undecideds:', sim(x,y,n,error_type='single'))"
   ]
  },
  {
   "cell_type": "markdown",
   "metadata": {},
   "source": [
    "# Likely GOP"
   ]
  },
  {
   "cell_type": "markdown",
   "metadata": {},
   "source": [
    "### Mississippi"
   ]
  },
  {
   "cell_type": "markdown",
   "metadata": {},
   "source": [
    "No RCP Polling data"
   ]
  },
  {
   "cell_type": "markdown",
   "metadata": {},
   "source": [
    "# Likely Dem"
   ]
  },
  {
   "cell_type": "markdown",
   "metadata": {},
   "source": [
    "### Michigan"
   ]
  },
  {
   "cell_type": "markdown",
   "metadata": {},
   "source": [
    "![michigan](https://raw.githubusercontent.com/ahoaglandnu/election/master/senate/mich.png)"
   ]
  },
  {
   "cell_type": "code",
   "execution_count": 16,
   "metadata": {},
   "outputs": [
    {
     "name": "stdout",
     "output_type": "stream",
     "text": [
      "Probabilities for James Winning (GOP gaining seat)\n",
      "\n",
      "Within MoE: 0.0%\n",
      "Even Split Undecideds: 0.0%\n",
      "Majority Undecideds: 0.0%\n",
      "All Undecideds: 3.655%\n"
     ]
    }
   ],
   "source": [
    "x = 37.5 #r\n",
    "y = 53.8 #d*\n",
    "n = 4\n",
    "print(\"Probabilities for James Winning (GOP gaining seat)\")\n",
    "print()\n",
    "print('Within MoE:', sim(x,y,n))\n",
    "print('Even Split Undecideds:', sim(x,y,n,error_type='split'))\n",
    "print('Majority Undecideds:', sim(x,y,n,error_type='uneven'))\n",
    "print('All Undecideds:', sim(x,y,n,error_type='single'))"
   ]
  },
  {
   "cell_type": "markdown",
   "metadata": {},
   "source": [
    "### Ohio"
   ]
  },
  {
   "cell_type": "markdown",
   "metadata": {},
   "source": [
    "![ohio](https://raw.githubusercontent.com/ahoaglandnu/election/master/senate/ohio.png)"
   ]
  },
  {
   "cell_type": "code",
   "execution_count": 17,
   "metadata": {},
   "outputs": [
    {
     "name": "stdout",
     "output_type": "stream",
     "text": [
      "Probabilities for Renacci Winning (GOP gaining seat)\n",
      "\n",
      "Within MoE: 0.0%\n",
      "Even Split Undecideds: 0.0%\n",
      "Majority Undecideds: 0.0%\n",
      "All Undecideds: 17.585%\n"
     ]
    }
   ],
   "source": [
    "x = 36.3 #r\n",
    "y = 52.3 #d*\n",
    "n = 5\n",
    "print(\"Probabilities for Renacci Winning (GOP gaining seat)\")\n",
    "print()\n",
    "print('Within MoE:', sim(x,y,n))\n",
    "print('Even Split Undecideds:', sim(x,y,n,error_type='split'))\n",
    "print('Majority Undecideds:', sim(x,y,n,error_type='uneven'))\n",
    "print('All Undecideds:', sim(x,y,n,error_type='single'))"
   ]
  },
  {
   "cell_type": "markdown",
   "metadata": {},
   "source": [
    "### Pennsylvania"
   ]
  },
  {
   "cell_type": "markdown",
   "metadata": {},
   "source": [
    "![pennsylvania](https://raw.githubusercontent.com/ahoaglandnu/election/master/senate/penn.png)"
   ]
  },
  {
   "cell_type": "code",
   "execution_count": 18,
   "metadata": {},
   "outputs": [
    {
     "name": "stdout",
     "output_type": "stream",
     "text": [
      "Probabilities for Barletta Winning (GOP gaining seat)\n",
      "\n",
      "Within MoE: 0.0%\n",
      "Even Split Undecideds: 0.0%\n",
      "Majority Undecideds: 0.0%\n",
      "All Undecideds: 17.8%\n"
     ]
    }
   ],
   "source": [
    "x = 36.0 #r\n",
    "y = 52.0 #d*\n",
    "n = 5\n",
    "print(\"Probabilities for Barletta Winning (GOP gaining seat)\")\n",
    "print()\n",
    "print('Within MoE:', sim(x,y,n))\n",
    "print('Even Split Undecideds:', sim(x,y,n,error_type='split'))\n",
    "print('Majority Undecideds:', sim(x,y,n,error_type='uneven'))\n",
    "print('All Undecideds:', sim(x,y,n,error_type='single'))"
   ]
  },
  {
   "cell_type": "markdown",
   "metadata": {},
   "source": [
    "# Conclusion\n",
    "\n",
    "The GOP will almost certainly retain a majority in the Senate.\n",
    "\n",
    "Arizona, Florida, and Nevada are the closest Senate races of 2018. The media narrative of a close race in North Dakota and Texas cannot be supported by polling data as both Democrat candidates are likely to lose those races. The 2016 Presidential swing states of Wisconsin, Pennsylvania, Michigan, and Ohio that went for Trump appear to be all but certain to re-elect their Democrat senators.  "
   ]
  },
  {
   "cell_type": "code",
   "execution_count": null,
   "metadata": {},
   "outputs": [],
   "source": []
  }
 ],
 "metadata": {
  "kernelspec": {
   "display_name": "Python 3",
   "language": "python",
   "name": "python3"
  },
  "language_info": {
   "codemirror_mode": {
    "name": "ipython",
    "version": 3
   },
   "file_extension": ".py",
   "mimetype": "text/x-python",
   "name": "python",
   "nbconvert_exporter": "python",
   "pygments_lexer": "ipython3",
   "version": "3.6.6"
  }
 },
 "nbformat": 4,
 "nbformat_minor": 2
}
