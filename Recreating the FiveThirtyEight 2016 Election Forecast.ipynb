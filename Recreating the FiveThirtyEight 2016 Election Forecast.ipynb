{
 "cells": [
  {
   "cell_type": "markdown",
   "metadata": {},
   "source": [
    "# Recreating the FiveThirtyEight 2016 Election Forecast"
   ]
  },
  {
   "cell_type": "markdown",
   "metadata": {},
   "source": [
    "![Title](https://raw.githubusercontent.com/ahoaglandnu/election/master/538_prob.png \"Title\")"
   ]
  },
  {
   "cell_type": "markdown",
   "metadata": {},
   "source": [
    "# Summary of Findings\n",
    "\n",
    "It appears as though FiveThirtyEight relied on a simulation to produce the election forecast probability and NOT its own published state-by-state probabilities.   \n",
    "\n",
    "By running simulations that add uncertainty to the probabilities for swing states and the toss-up states,  we can replicate FiveThirtyEight Presidential Election Forecasts.\n",
    "\n",
    "Through this process, we did not identify anything that would have predicted the outcomes for the specific polling state errors for Wisconsin, Michigan, and Pennsylvania."
   ]
  },
  {
   "cell_type": "markdown",
   "metadata": {},
   "source": [
    "### Examining the State Probabilities"
   ]
  },
  {
   "cell_type": "code",
   "execution_count": 1,
   "metadata": {},
   "outputs": [],
   "source": [
    "import numpy as np\n",
    "import pandas as pd\n",
    "import random"
   ]
  },
  {
   "cell_type": "markdown",
   "metadata": {},
   "source": [
    "### We start with a dataframe of each state and district probabilities.\n",
    "\n",
    "State probabilities can be found at: [FiveThirtyEight](https://projects.fivethirtyeight.com/2016-election-forecast/#plus)"
   ]
  },
  {
   "cell_type": "code",
   "execution_count": 2,
   "metadata": {},
   "outputs": [],
   "source": [
    "df = pd.read_csv('fivethirtyeight2016.csv')"
   ]
  },
  {
   "cell_type": "code",
   "execution_count": 3,
   "metadata": {},
   "outputs": [
    {
     "data": {
      "text/html": [
       "<div>\n",
       "<style scoped>\n",
       "    .dataframe tbody tr th:only-of-type {\n",
       "        vertical-align: middle;\n",
       "    }\n",
       "\n",
       "    .dataframe tbody tr th {\n",
       "        vertical-align: top;\n",
       "    }\n",
       "\n",
       "    .dataframe thead th {\n",
       "        text-align: right;\n",
       "    }\n",
       "</style>\n",
       "<table border=\"1\" class=\"dataframe\">\n",
       "  <thead>\n",
       "    <tr style=\"text-align: right;\">\n",
       "      <th></th>\n",
       "      <th>state</th>\n",
       "      <th>ec</th>\n",
       "      <th>clinton_538</th>\n",
       "      <th>trump_538</th>\n",
       "    </tr>\n",
       "  </thead>\n",
       "  <tbody>\n",
       "    <tr>\n",
       "      <th>0</th>\n",
       "      <td>D.C.</td>\n",
       "      <td>3</td>\n",
       "      <td>99.99</td>\n",
       "      <td>0.01</td>\n",
       "    </tr>\n",
       "    <tr>\n",
       "      <th>1</th>\n",
       "      <td>California</td>\n",
       "      <td>55</td>\n",
       "      <td>99.99</td>\n",
       "      <td>0.01</td>\n",
       "    </tr>\n",
       "    <tr>\n",
       "      <th>2</th>\n",
       "      <td>Maryland</td>\n",
       "      <td>10</td>\n",
       "      <td>99.99</td>\n",
       "      <td>0.01</td>\n",
       "    </tr>\n",
       "    <tr>\n",
       "      <th>3</th>\n",
       "      <td>Hawaii</td>\n",
       "      <td>4</td>\n",
       "      <td>99.00</td>\n",
       "      <td>1.00</td>\n",
       "    </tr>\n",
       "    <tr>\n",
       "      <th>4</th>\n",
       "      <td>Vermont</td>\n",
       "      <td>3</td>\n",
       "      <td>98.00</td>\n",
       "      <td>2.00</td>\n",
       "    </tr>\n",
       "  </tbody>\n",
       "</table>\n",
       "</div>"
      ],
      "text/plain": [
       "        state  ec  clinton_538  trump_538\n",
       "0        D.C.   3        99.99       0.01\n",
       "1  California  55        99.99       0.01\n",
       "2    Maryland  10        99.99       0.01\n",
       "3      Hawaii   4        99.00       1.00\n",
       "4     Vermont   3        98.00       2.00"
      ]
     },
     "execution_count": 3,
     "metadata": {},
     "output_type": "execute_result"
    }
   ],
   "source": [
    "df.head()"
   ]
  },
  {
   "cell_type": "code",
   "execution_count": 4,
   "metadata": {},
   "outputs": [
    {
     "data": {
      "text/html": [
       "<div>\n",
       "<style scoped>\n",
       "    .dataframe tbody tr th:only-of-type {\n",
       "        vertical-align: middle;\n",
       "    }\n",
       "\n",
       "    .dataframe tbody tr th {\n",
       "        vertical-align: top;\n",
       "    }\n",
       "\n",
       "    .dataframe thead th {\n",
       "        text-align: right;\n",
       "    }\n",
       "</style>\n",
       "<table border=\"1\" class=\"dataframe\">\n",
       "  <thead>\n",
       "    <tr style=\"text-align: right;\">\n",
       "      <th></th>\n",
       "      <th>state</th>\n",
       "      <th>ec</th>\n",
       "      <th>clinton_538</th>\n",
       "      <th>trump_538</th>\n",
       "    </tr>\n",
       "  </thead>\n",
       "  <tbody>\n",
       "    <tr>\n",
       "      <th>51</th>\n",
       "      <td>Idaho</td>\n",
       "      <td>4</td>\n",
       "      <td>1.00</td>\n",
       "      <td>99.00</td>\n",
       "    </tr>\n",
       "    <tr>\n",
       "      <th>52</th>\n",
       "      <td>Kentucky</td>\n",
       "      <td>8</td>\n",
       "      <td>0.01</td>\n",
       "      <td>99.99</td>\n",
       "    </tr>\n",
       "    <tr>\n",
       "      <th>53</th>\n",
       "      <td>Oklahoma</td>\n",
       "      <td>7</td>\n",
       "      <td>0.01</td>\n",
       "      <td>99.99</td>\n",
       "    </tr>\n",
       "    <tr>\n",
       "      <th>54</th>\n",
       "      <td>Wyoming</td>\n",
       "      <td>3</td>\n",
       "      <td>1.00</td>\n",
       "      <td>99.00</td>\n",
       "    </tr>\n",
       "    <tr>\n",
       "      <th>55</th>\n",
       "      <td>Nebraska (CD 3)*</td>\n",
       "      <td>1</td>\n",
       "      <td>1.00</td>\n",
       "      <td>99.00</td>\n",
       "    </tr>\n",
       "  </tbody>\n",
       "</table>\n",
       "</div>"
      ],
      "text/plain": [
       "               state  ec  clinton_538  trump_538\n",
       "51             Idaho   4         1.00      99.00\n",
       "52          Kentucky   8         0.01      99.99\n",
       "53          Oklahoma   7         0.01      99.99\n",
       "54           Wyoming   3         1.00      99.00\n",
       "55  Nebraska (CD 3)*   1         1.00      99.00"
      ]
     },
     "execution_count": 4,
     "metadata": {},
     "output_type": "execute_result"
    }
   ],
   "source": [
    "df.tail()"
   ]
  },
  {
   "cell_type": "markdown",
   "metadata": {},
   "source": [
    "### The electoral college totals for all states 50% and higher for each candidate"
   ]
  },
  {
   "cell_type": "code",
   "execution_count": 5,
   "metadata": {},
   "outputs": [
    {
     "name": "stdout",
     "output_type": "stream",
     "text": [
      "Trump Most Likely Electoral College Results: 215\n"
     ]
    }
   ],
   "source": [
    "print('Trump Most Likely Electoral College Results:', np.sum(df['ec'][df['trump_538'] >= 50]))"
   ]
  },
  {
   "cell_type": "code",
   "execution_count": 6,
   "metadata": {},
   "outputs": [
    {
     "name": "stdout",
     "output_type": "stream",
     "text": [
      "Clinton Most Likely Electoral College Results: 323\n"
     ]
    }
   ],
   "source": [
    "print('Clinton Most Likely Electoral College Results:', np.sum(df['ec'][df['clinton_538'] >= 50]))"
   ]
  },
  {
   "cell_type": "markdown",
   "metadata": {},
   "source": [
    "### But the forecasted outcome was Trump: 236, Clinton: 302"
   ]
  },
  {
   "cell_type": "markdown",
   "metadata": {},
   "source": [
    "![EC Map](https://raw.githubusercontent.com/ahoaglandnu/election/master/538_ec.png \"EC Map\")"
   ]
  },
  {
   "cell_type": "markdown",
   "metadata": {},
   "source": [
    "### The posted state probabilities are NOT the model probabilities"
   ]
  },
  {
   "cell_type": "markdown",
   "metadata": {},
   "source": [
    "# A Simulation for the 538 Election Forecast Probabilities and Electoral Votes"
   ]
  },
  {
   "cell_type": "code",
   "execution_count": 7,
   "metadata": {},
   "outputs": [],
   "source": [
    "def electoral_college(ec, cand, state, sims=10, polling_error=False):\n",
    "    cand_wins = 0\n",
    "    cand_ec_total = []\n",
    "    cand_states = []\n",
    "        \n",
    "    for i in range(sims):\n",
    "        cand_ec = 0\n",
    "        cand_state = []\n",
    "        correl_error = np.random.uniform()\n",
    "        poll_error = int(np.random.standard_t(11))\n",
    "        for x, y, z in zip(cand, state, ec):\n",
    "            if polling_error == True:\n",
    "                x = x + poll_error\n",
    "            sim_election = np.random.uniform()*100\n",
    "            if x > sim_election:\n",
    "                cand_ec += z\n",
    "                cand_state.append(y)\n",
    "        cand_ec_total.append(cand_ec)\n",
    "        cand_states.append(cand_state)\n",
    "        if cand_ec > 269:\n",
    "            cand_wins += 1\n",
    "    return cand_wins, cand_ec_total, cand_states"
   ]
  },
  {
   "cell_type": "markdown",
   "metadata": {},
   "source": [
    "### 20,000 simulated elections using the state and district probabilities"
   ]
  },
  {
   "cell_type": "code",
   "execution_count": 8,
   "metadata": {},
   "outputs": [
    {
     "name": "stdout",
     "output_type": "stream",
     "text": [
      "Recreate 538 Probabilities and Electoral College Results\n",
      "\n",
      "Trump Average EC: 235.09815\n",
      "Trump Win Prob: 10.225\n",
      "\n",
      "Clinton Average EC: 302.29805\n",
      "Clinton Win Prob: 88.47500000000001\n"
     ]
    }
   ],
   "source": [
    "print(\"Recreate 538 Probabilities and Electoral College Results\")\n",
    "print()\n",
    "sims = 20000\n",
    "ec = list(df.ec.values)\n",
    "states = list(df.state.values)\n",
    "cand_1 = list(df['trump_538'].values)\n",
    "cand_1_wins, cand_1_ec_totals, cand_1_states = electoral_college(ec, cand_1, states, sims=sims)\n",
    "print('Trump Average EC:', np.average(cand_1_ec_totals))\n",
    "print('Trump Win Prob:', (cand_1_wins/sims)*100)\n",
    "print()\n",
    "cand_2 = list(df['clinton_538'].values)\n",
    "cand_2_wins, cand_2_ec_totals, cand_2_states = electoral_college(ec, cand_2, states,sims=sims)\n",
    "print('Clinton Average EC:', np.average(cand_2_ec_totals))\n",
    "print('Clinton Win Prob:', (cand_2_wins/sims)*100)"
   ]
  },
  {
   "cell_type": "markdown",
   "metadata": {},
   "source": [
    "# The EC outcome matches but why is the probability so high?"
   ]
  },
  {
   "cell_type": "markdown",
   "metadata": {},
   "source": [
    "If you look at the methodology documentation, it mentions that the simulation injects a random national polling error. \n",
    "\n",
    "[FiveThirtyEight Methodology Explanation](https://fivethirtyeight.com/features/a-users-guide-to-fivethirtyeights-2016-general-election-forecast/)"
   ]
  },
  {
   "cell_type": "markdown",
   "metadata": {},
   "source": [
    "### Adding the national polling error"
   ]
  },
  {
   "cell_type": "code",
   "execution_count": 9,
   "metadata": {},
   "outputs": [
    {
     "name": "stdout",
     "output_type": "stream",
     "text": [
      "538 Probabilities and Electoral College Results with National Polling Error\n",
      "\n",
      "Trump Average EC: 235.35695\n",
      "Trump Win Prob: 10.63\n",
      "\n",
      "Clinton Average EC: 302.05975\n",
      "Clinton Win Prob: 87.985\n"
     ]
    }
   ],
   "source": [
    "print(\"538 Probabilities and Electoral College Results with National Polling Error\")\n",
    "print()\n",
    "sims = 20000\n",
    "ec = list(df.ec.values)\n",
    "states = list(df.state.values)\n",
    "cand_1 = list(df['trump_538'].values)\n",
    "cand_1_wins, cand_1_ec_totals, cand_1_states = electoral_college(ec, cand_1, states, sims=sims,polling_error=True)\n",
    "print('Trump Average EC:', np.average(cand_1_ec_totals))\n",
    "print('Trump Win Prob:', (cand_1_wins/sims)*100)\n",
    "print()\n",
    "cand_2 = list(df['clinton_538'].values)\n",
    "cand_2_wins, cand_2_ec_totals, cand_2_states = electoral_college(ec, cand_2, states,sims=sims,polling_error=True)\n",
    "print('Clinton Average EC:', np.average(cand_2_ec_totals))\n",
    "print('Clinton Win Prob:', (cand_2_wins/sims)*100)"
   ]
  },
  {
   "cell_type": "markdown",
   "metadata": {},
   "source": [
    "### There was no significant change with a national polling error, so we will add a new rule for the states FiveThirtyEight identified as swing states."
   ]
  },
  {
   "cell_type": "markdown",
   "metadata": {},
   "source": [
    "### Create a swing state polling error"
   ]
  },
  {
   "cell_type": "code",
   "execution_count": 10,
   "metadata": {},
   "outputs": [],
   "source": [
    "def electoral_college(ec, cand, state, sims=10, polling_error=False):\n",
    "    cand_wins = 0\n",
    "    cand_ec_total = []\n",
    "    cand_states = []\n",
    "    swing_states = ['Colorado', 'Florida', 'Iowa', 'Michigan', 'Nevada',\n",
    "                'New Hampshire', 'North Carolina', 'Ohio', 'Pennsylvania',\n",
    "                'Virginia', 'Wisconsin','Minnesota','Arizona','New Mexico']\n",
    "    \n",
    "    for i in range(sims):\n",
    "        cand_ec = 0\n",
    "        cand_state = []\n",
    "        poll_error = int(np.random.standard_t(10))\n",
    "        swing_error = int(np.random.standard_t(6))\n",
    "        sim_election = np.random.uniform()*100\n",
    "        for x, y, z in zip(cand, state, ec):\n",
    "            if y in swing_states: \n",
    "                x = x + swing_error\n",
    "            if polling_error == True:\n",
    "                x = x + poll_error\n",
    "            if x > sim_election:\n",
    "                cand_ec += z\n",
    "                cand_state.append(y)\n",
    "        cand_ec_total.append(cand_ec)\n",
    "        cand_states.append(cand_state)\n",
    "        if cand_ec > 269:\n",
    "            cand_wins += 1\n",
    "    return cand_wins, cand_ec_total, cand_states"
   ]
  },
  {
   "cell_type": "code",
   "execution_count": 11,
   "metadata": {},
   "outputs": [
    {
     "name": "stdout",
     "output_type": "stream",
     "text": [
      "538 Probabilities and Electoral College Results with Swing States and National Polling Errors\n",
      "\n",
      "Trump Average EC: 235.30035\n",
      "Trump Win Prob: 30.154999999999998\n",
      "\n",
      "Clinton Average EC: 302.02295\n",
      "Clinton Win Prob: 69.685\n"
     ]
    }
   ],
   "source": [
    "print(\"538 Probabilities and Electoral College Results with Swing States and National Polling Errors\")\n",
    "print()\n",
    "sims = 20000\n",
    "ec = list(df.ec.values)\n",
    "states = list(df.state.values)\n",
    "cand_1 = list(df['trump_538'].values)\n",
    "cand_1_wins, cand_1_ec_totals, cand_1_states = electoral_college(ec, cand_1, states, sims=sims,polling_error=True)\n",
    "print('Trump Average EC:', np.average(cand_1_ec_totals))\n",
    "print('Trump Win Prob:', (cand_1_wins/sims)*100)\n",
    "print()\n",
    "cand_2 = list(df['clinton_538'].values)\n",
    "cand_2_wins, cand_2_ec_totals, cand_2_states = electoral_college(ec, cand_2, states,sims=sims,polling_error=True)\n",
    "print('Clinton Average EC:', np.average(cand_2_ec_totals))\n",
    "print('Clinton Win Prob:', (cand_2_wins/sims)*100)"
   ]
  },
  {
   "cell_type": "markdown",
   "metadata": {},
   "source": [
    "### We can replicate the 538 Electoral College results but the probability is still off. \n",
    "\n",
    "### If we examine the states with a near 50% probability, we can create a rule especially for them keeping with the \"correlated\" states methodology of 538."
   ]
  },
  {
   "cell_type": "code",
   "execution_count": 12,
   "metadata": {},
   "outputs": [],
   "source": [
    "def electoral_college(ec, cand, state, sims=10, polling_error=False):\n",
    "    cand_wins = 0\n",
    "    cand_ec_total = []\n",
    "    cand_states = []\n",
    "\n",
    "    swing_states = ['Colorado', 'Florida', 'Iowa', 'Michigan', 'Nevada',\n",
    "                'New Hampshire', 'North Carolina', 'Ohio', 'Pennsylvania',\n",
    "                'Virginia', 'Wisconsin','Minnesota','Arizona','New Mexico']\n",
    "    close_states = ['Florida', 'Nevada', 'North Carolina']\n",
    "    \n",
    "    for i in range(sims):\n",
    "        cand_ec = 0\n",
    "        cand_state = []\n",
    "        correl_error = np.random.uniform()\n",
    "        poll_error = int(np.random.standard_t(10)) \n",
    "        swing_error = int(np.random.standard_t(5)) \n",
    "        sim_election = np.random.uniform()*100\n",
    "        for x, y, z in zip(cand, state, ec):\n",
    "            if correl_error <= .2 and y in close_states: \n",
    "                x = 85 \n",
    "            if correl_error >= .85 and y in close_states: \n",
    "                x = 0 \n",
    "            if y in swing_states: \n",
    "                x = x + swing_error\n",
    "            if polling_error == True:\n",
    "                x = x + poll_error\n",
    "            if x > sim_election:\n",
    "                cand_ec += z\n",
    "                cand_state.append(y)\n",
    "        cand_ec_total.append(cand_ec)\n",
    "        cand_states.append(cand_state)\n",
    "        if cand_ec > 269:\n",
    "            cand_wins += 1\n",
    "    return cand_wins, cand_ec_total, cand_states"
   ]
  },
  {
   "cell_type": "markdown",
   "metadata": {},
   "source": [
    "### For this final simulation, we will increase the number of simulations from 20,000 to 100,000"
   ]
  },
  {
   "cell_type": "code",
   "execution_count": 13,
   "metadata": {},
   "outputs": [
    {
     "name": "stdout",
     "output_type": "stream",
     "text": [
      "Recreate 538 Probabilities and Electoral College Results\n",
      "\n",
      "Trump Average EC: 236.11207\n",
      "Trump Win Prob: 28.343\n",
      "\n",
      "Clinton Average EC: 300.85173\n",
      "Clinton Win Prob: 72.45899999999999\n"
     ]
    }
   ],
   "source": [
    "print(\"Recreate 538 Probabilities and Electoral College Results\")\n",
    "print()\n",
    "sims = 100000\n",
    "ec = list(df.ec.values)\n",
    "states = list(df.state.values)\n",
    "cand_1 = list(df['trump_538'].values)\n",
    "cand_1_wins, cand_1_ec_totals, cand_1_states = electoral_college(ec, cand_1, states, sims=sims,polling_error=True)\n",
    "print('Trump Average EC:', np.average(cand_1_ec_totals))\n",
    "print('Trump Win Prob:', (cand_1_wins/sims)*100)\n",
    "print()\n",
    "cand_2 = list(df['clinton_538'].values)\n",
    "cand_2_wins, cand_2_ec_totals, cand_2_states = electoral_college(ec, cand_2, states,sims=sims,polling_error=True)\n",
    "print('Clinton Average EC:', np.average(cand_2_ec_totals))\n",
    "print('Clinton Win Prob:', (cand_2_wins/sims)*100)"
   ]
  },
  {
   "cell_type": "markdown",
   "metadata": {},
   "source": [
    "### We have nearly replicated the probabilities and electoral college results"
   ]
  },
  {
   "cell_type": "markdown",
   "metadata": {},
   "source": [
    "![Title](https://raw.githubusercontent.com/ahoaglandnu/election/master/538_prob.png \"Title\")\n",
    "![EC Map](https://raw.githubusercontent.com/ahoaglandnu/election/master/538_ec.png \"EC Map\")"
   ]
  },
  {
   "cell_type": "markdown",
   "metadata": {},
   "source": [
    "# Conclusions\n",
    "\n",
    "It appears as though FiveThirtyEight relied on a simulation to produce the election forecast probability and NOT its own published state-by-state probabilities.   \n",
    "\n",
    "By running simulations that add uncertainty to the probabilities for swing states and the toss-up states,  we can replicate FiveThirtyEight Presidential Election Forecasts.\n",
    "\n",
    "Through this process, we did not identify anything that would have predicted the outcomes for the specific polling state errors for Wisconsin, Michigan, and Pennsylvania."
   ]
  }
 ],
 "metadata": {
  "kernelspec": {
   "display_name": "Python 3",
   "language": "python",
   "name": "python3"
  },
  "language_info": {
   "codemirror_mode": {
    "name": "ipython",
    "version": 3
   },
   "file_extension": ".py",
   "mimetype": "text/x-python",
   "name": "python",
   "nbconvert_exporter": "python",
   "pygments_lexer": "ipython3",
   "version": "3.6.4"
  }
 },
 "nbformat": 4,
 "nbformat_minor": 2
}
